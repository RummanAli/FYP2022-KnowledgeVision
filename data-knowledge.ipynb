{
 "cells": [
  {
   "cell_type": "code",
   "execution_count": 1,
   "metadata": {},
   "outputs": [
    {
     "name": "stderr",
     "output_type": "stream",
     "text": [
      "Using TensorFlow backend.\n"
     ]
    }
   ],
   "source": [
    "import tensorflow as tf\n",
    "from tensorflow.keras.utils import to_categorical\n",
    "from tensorflow.keras.models import Sequential\n",
    "from tensorflow.keras.layers import Flatten, Dense, Input, Add, Reshape,Conv2D,MaxPooling2D,ZeroPadding2D,experimental,AveragePooling2D,Concatenate,Dropout,Activation\n",
    "from matplotlib import pyplot as plt\n",
    "from tensorflow.keras.models import Model\n",
    "import numpy as np\n",
    "import keras\n",
    "from keras import layers\n",
    "from PIL import Image\n",
    "import cv2"
   ]
  },
  {
   "cell_type": "code",
   "execution_count": 2,
   "metadata": {},
   "outputs": [],
   "source": [
    "(x_train, y_train), (x_test, y_test) = tf.keras.datasets.mnist.load_data()"
   ]
  },
  {
   "cell_type": "code",
   "execution_count": 4,
   "metadata": {},
   "outputs": [],
   "source": [
    "y_train = tf.keras.utils.to_categorical(y_train)\n",
    "y_test = tf.keras.utils.to_categorical(y_test)"
   ]
  },
  {
   "cell_type": "code",
   "execution_count": 3,
   "metadata": {},
   "outputs": [],
   "source": [
    "mean = []\n",
    "for i in range(10):\n",
    "  pos = np.where(y_train == i)\n",
    "  mean.append((np.sum(x_train[pos],axis = 0))/pos[0].shape[0])"
   ]
  },
  {
   "cell_type": "code",
   "execution_count": 5,
   "metadata": {},
   "outputs": [
    {
     "data": {
      "image/png": "[encoded data removed]",
      "text/plain": [
       "<Figure size 432x288 with 10 Axes>"
      ]
     },
     "metadata": {
      "needs_background": "light"
     },
     "output_type": "display_data"
    }
   ],
   "source": [
    "_, axs = plt.subplots(2,5)\n",
    "axs = axs.flatten()\n",
    "for i, ax in enumerate(axs):\n",
    "  ax.imshow(mean[i])\n",
    "plt.show()# "
   ]
  },
  {
   "cell_type": "code",
   "execution_count": 6,
   "metadata": {},
   "outputs": [],
   "source": [
    "mean = np.array(mean)\n",
    "mean = mean.astype(np.float32)\n",
    "x_train = x_train.astype(np.float32)"
   ]
  },
  {
   "cell_type": "code",
   "execution_count": 7,
   "metadata": {},
   "outputs": [],
   "source": [
    "y_train_ccoeff = []\n",
    "for img in x_train:\n",
    "    ccoeff = []\n",
    "    for i in range(10):\n",
    "        ccoeff.append(cv2.matchTemplate(mean[i],img,cv2.TM_CCOEFF_NORMED))\n",
    "    y_train_ccoeff.append(ccoeff)"
   ]
  },
  {
   "cell_type": "code",
   "execution_count": 8,
   "metadata": {},
   "outputs": [],
   "source": [
    "y_train_ccoeff = np.array(y_train_ccoeff)"
   ]
  },
  {
   "cell_type": "code",
   "execution_count": 10,
   "metadata": {},
   "outputs": [],
   "source": [
    "y_train_ccoeff = np.squeeze(y_train_ccoeff,axis = -1)"
   ]
  },
  {
   "cell_type": "code",
   "execution_count": 11,
   "metadata": {},
   "outputs": [
    {
     "data": {
      "text/plain": [
       "(60000, 10)"
      ]
     },
     "execution_count": 11,
     "metadata": {},
     "output_type": "execute_result"
    }
   ],
   "source": [
    "y_train_ccoeff.shape"
   ]
  },
  {
   "cell_type": "code",
   "execution_count": 12,
   "metadata": {},
   "outputs": [],
   "source": [
    "input = Input((28,28,1))\n",
    "inputB = Input((10))\n",
    "c1l1  = Conv2D(32,3,(1,1),padding = 'same',activation='relu')(input)\n",
    "c1l2  = Conv2D(32,3,(1,1),padding = 'same',activation='relu')(c1l1)\n",
    "ces2  = Add()([c1l2, c1l1])\n",
    "c1l3  = Conv2D(32,3,(1,1),padding = 'same',activation='relu')(ces2)\n",
    "ces3  = Add()([c1l3, ces2])\n",
    "ces3  = Flatten()(ces3)\n",
    "ces3  = Dense(10)(ces3)\n",
    "ces3  = Add()([ces3,inputB])\n",
    "ces3  = Activation('softmax')(ces3)\n",
    "model = Model(inputs=[input, inputB], outputs=ces3)"
   ]
  },
  {
   "cell_type": "code",
   "execution_count": 15,
   "metadata": {},
   "outputs": [
    {
     "name": "stdout",
     "output_type": "stream",
     "text": [
      "Train on 54000 samples, validate on 6000 samples\n",
      "Epoch 1/50\n",
      "53984/54000 [============================>.] - ETA: 0s - loss: 2.8388 - accuracy: 0.9251"
     ]
    },
    {
     "name": "stderr",
     "output_type": "stream",
     "text": [
      "WARNING: Logging before flag parsing goes to stderr.\n",
      "W0907 00:22:52.290162   592 deprecation.py:506] From C:\\Users\\DeLL\\Anaconda3\\lib\\site-packages\\tensorflow_core\\python\\ops\\resource_variable_ops.py:1781: calling BaseResourceVariable.__init__ (from tensorflow.python.ops.resource_variable_ops) with constraint is deprecated and will be removed in a future version.\n",
      "Instructions for updating:\n",
      "If using Keras pass *_constraint arguments to layers.\n"
     ]
    },
    {
     "name": "stdout",
     "output_type": "stream",
     "text": [
      "54000/54000 [==============================] - 213s 4ms/sample - loss: 2.8379 - accuracy: 0.9251 - val_loss: 0.1144 - val_accuracy: 0.9710\n",
      "Epoch 2/50\n",
      "54000/54000 [==============================] - 234s 4ms/sample - loss: 0.0961 - accuracy: 0.9746 - val_loss: 0.1483 - val_accuracy: 0.9683\n",
      "Epoch 3/50\n",
      "54000/54000 [==============================] - 220s 4ms/sample - loss: 0.0736 - accuracy: 0.9797 - val_loss: 0.1316 - val_accuracy: 0.9725\n",
      "Epoch 4/50\n",
      "54000/54000 [==============================] - 221s 4ms/sample - loss: 0.0746 - accuracy: 0.9789 - val_loss: 0.1207 - val_accuracy: 0.9785\n",
      "Epoch 5/50\n",
      "54000/54000 [==============================] - 214s 4ms/sample - loss: 0.0604 - accuracy: 0.9833 - val_loss: 0.1274 - val_accuracy: 0.9762\n",
      "Epoch 6/50\n",
      "54000/54000 [==============================] - 208s 4ms/sample - loss: 0.0549 - accuracy: 0.9860 - val_loss: 0.1226 - val_accuracy: 0.9785\n",
      "Epoch 7/50\n",
      "54000/54000 [==============================] - 209s 4ms/sample - loss: 0.0524 - accuracy: 0.9873 - val_loss: 0.1709 - val_accuracy: 0.9763\n",
      "Epoch 8/50\n",
      "54000/54000 [==============================] - 210s 4ms/sample - loss: 0.0420 - accuracy: 0.9903 - val_loss: 0.1840 - val_accuracy: 0.9773\n",
      "Epoch 9/50\n",
      "54000/54000 [==============================] - 215s 4ms/sample - loss: 0.0374 - accuracy: 0.9913 - val_loss: 0.1693 - val_accuracy: 0.9798\n",
      "Epoch 10/50\n",
      "54000/54000 [==============================] - 212s 4ms/sample - loss: 0.0303 - accuracy: 0.9927 - val_loss: 0.1995 - val_accuracy: 0.9768\n",
      "Epoch 11/50\n",
      "54000/54000 [==============================] - 213s 4ms/sample - loss: 0.0313 - accuracy: 0.9933 - val_loss: 0.3027 - val_accuracy: 0.9788\n",
      "Epoch 12/50\n",
      "54000/54000 [==============================] - 214s 4ms/sample - loss: 0.0354 - accuracy: 0.9936 - val_loss: 0.2829 - val_accuracy: 0.9807\n",
      "Epoch 13/50\n",
      "54000/54000 [==============================] - 212s 4ms/sample - loss: 0.0293 - accuracy: 0.9954 - val_loss: 0.2634 - val_accuracy: 0.9822\n",
      "Epoch 14/50\n",
      "54000/54000 [==============================] - 212s 4ms/sample - loss: 0.0329 - accuracy: 0.9953 - val_loss: 0.3113 - val_accuracy: 0.9810\n",
      "Epoch 15/50\n",
      "54000/54000 [==============================] - 213s 4ms/sample - loss: 0.0267 - accuracy: 0.9961 - val_loss: 0.2763 - val_accuracy: 0.9827\n",
      "Epoch 16/50\n",
      "54000/54000 [==============================] - 209s 4ms/sample - loss: 0.0329 - accuracy: 0.9955 - val_loss: 0.3207 - val_accuracy: 0.9800\n",
      "Epoch 17/50\n",
      "54000/54000 [==============================] - 209s 4ms/sample - loss: 0.0288 - accuracy: 0.9962 - val_loss: 0.4099 - val_accuracy: 0.9805\n",
      "Epoch 18/50\n",
      "54000/54000 [==============================] - 211s 4ms/sample - loss: 0.0269 - accuracy: 0.9965 - val_loss: 0.3796 - val_accuracy: 0.9825\n",
      "Epoch 19/50\n",
      "54000/54000 [==============================] - 209s 4ms/sample - loss: 0.0319 - accuracy: 0.9960 - val_loss: 0.3697 - val_accuracy: 0.9822\n",
      "Epoch 20/50\n",
      "54000/54000 [==============================] - 209s 4ms/sample - loss: 0.0237 - accuracy: 0.9975 - val_loss: 0.4566 - val_accuracy: 0.9817\n",
      "Epoch 21/50\n",
      "54000/54000 [==============================] - 209s 4ms/sample - loss: 0.0267 - accuracy: 0.9972 - val_loss: 0.4147 - val_accuracy: 0.9817\n",
      "Epoch 22/50\n",
      "54000/54000 [==============================] - 211s 4ms/sample - loss: 0.0272 - accuracy: 0.9971 - val_loss: 0.6081 - val_accuracy: 0.9822\n",
      "Epoch 23/50\n",
      "54000/54000 [==============================] - 211s 4ms/sample - loss: 0.0271 - accuracy: 0.9974 - val_loss: 0.4819 - val_accuracy: 0.9852\n",
      "Epoch 24/50\n",
      "54000/54000 [==============================] - 210s 4ms/sample - loss: 0.0269 - accuracy: 0.9977 - val_loss: 0.4578 - val_accuracy: 0.9833\n",
      "Epoch 25/50\n",
      "54000/54000 [==============================] - 209s 4ms/sample - loss: 0.0231 - accuracy: 0.9978 - val_loss: 0.7115 - val_accuracy: 0.9810\n",
      "Epoch 26/50\n",
      "54000/54000 [==============================] - 210s 4ms/sample - loss: 0.0268 - accuracy: 0.9977 - val_loss: 0.5158 - val_accuracy: 0.9842\n",
      "Epoch 27/50\n",
      "54000/54000 [==============================] - 213s 4ms/sample - loss: 0.0185 - accuracy: 0.9981 - val_loss: 0.6085 - val_accuracy: 0.9833\n",
      "Epoch 28/50\n",
      "54000/54000 [==============================] - 210s 4ms/sample - loss: 0.0258 - accuracy: 0.9977 - val_loss: 0.7548 - val_accuracy: 0.9825\n",
      "Epoch 29/50\n",
      "54000/54000 [==============================] - 210s 4ms/sample - loss: 0.0295 - accuracy: 0.9978 - val_loss: 0.6589 - val_accuracy: 0.9823\n",
      "Epoch 30/50\n",
      "54000/54000 [==============================] - 210s 4ms/sample - loss: 0.0254 - accuracy: 0.9981 - val_loss: 0.7896 - val_accuracy: 0.9838\n",
      "Epoch 31/50\n",
      "54000/54000 [==============================] - 213s 4ms/sample - loss: 0.0319 - accuracy: 0.9981 - val_loss: 0.6948 - val_accuracy: 0.9867\n",
      "Epoch 32/50\n",
      "54000/54000 [==============================] - 213s 4ms/sample - loss: 0.0297 - accuracy: 0.9981 - val_loss: 0.9545 - val_accuracy: 0.9807\n",
      "Epoch 33/50\n",
      "54000/54000 [==============================] - 210s 4ms/sample - loss: 0.0196 - accuracy: 0.9985 - val_loss: 0.9794 - val_accuracy: 0.9818\n",
      "Epoch 34/50\n",
      "54000/54000 [==============================] - 208s 4ms/sample - loss: 0.0297 - accuracy: 0.9983 - val_loss: 0.9389 - val_accuracy: 0.9825\n",
      "Epoch 35/50\n",
      "54000/54000 [==============================] - 211s 4ms/sample - loss: 0.0286 - accuracy: 0.9984 - val_loss: 0.8169 - val_accuracy: 0.9822\n",
      "Epoch 36/50\n",
      "54000/54000 [==============================] - 209s 4ms/sample - loss: 0.0224 - accuracy: 0.9987 - val_loss: 1.2370 - val_accuracy: 0.9810\n",
      "Epoch 37/50\n",
      "54000/54000 [==============================] - 210s 4ms/sample - loss: 0.0380 - accuracy: 0.9981 - val_loss: 0.9019 - val_accuracy: 0.9848\n",
      "Epoch 38/50\n",
      "54000/54000 [==============================] - 209s 4ms/sample - loss: 0.0237 - accuracy: 0.9987 - val_loss: 0.9392 - val_accuracy: 0.9863\n",
      "Epoch 39/50\n",
      "54000/54000 [==============================] - 208s 4ms/sample - loss: 0.0288 - accuracy: 0.9985 - val_loss: 0.9860 - val_accuracy: 0.9867\n",
      "Epoch 40/50\n",
      "54000/54000 [==============================] - 211s 4ms/sample - loss: 0.0389 - accuracy: 0.9986 - val_loss: 1.2914 - val_accuracy: 0.9843\n",
      "Epoch 41/50\n",
      "54000/54000 [==============================] - 208s 4ms/sample - loss: 0.0243 - accuracy: 0.9990 - val_loss: 0.9598 - val_accuracy: 0.9848\n",
      "Epoch 42/50\n",
      "54000/54000 [==============================] - 209s 4ms/sample - loss: 0.0256 - accuracy: 0.9984 - val_loss: 1.1270 - val_accuracy: 0.9853\n",
      "Epoch 43/50\n",
      "54000/54000 [==============================] - 209s 4ms/sample - loss: 0.0247 - accuracy: 0.9988 - val_loss: 1.1973 - val_accuracy: 0.9850\n",
      "Epoch 44/50\n",
      "54000/54000 [==============================] - 212s 4ms/sample - loss: 0.0268 - accuracy: 0.9985 - val_loss: 1.0785 - val_accuracy: 0.9853\n",
      "Epoch 45/50\n",
      "54000/54000 [==============================] - 210s 4ms/sample - loss: 0.0246 - accuracy: 0.9990 - val_loss: 1.1691 - val_accuracy: 0.9875\n",
      "Epoch 46/50\n",
      "54000/54000 [==============================] - 210s 4ms/sample - loss: 0.0292 - accuracy: 0.9987 - val_loss: 1.1720 - val_accuracy: 0.9847\n",
      "Epoch 47/50\n",
      "54000/54000 [==============================] - 220s 4ms/sample - loss: 0.0285 - accuracy: 0.9987 - val_loss: 1.1486 - val_accuracy: 0.9860\n",
      "Epoch 48/50\n",
      "54000/54000 [==============================] - 220s 4ms/sample - loss: 0.0302 - accuracy: 0.9987 - val_loss: 1.1909 - val_accuracy: 0.9863\n",
      "Epoch 49/50\n",
      "54000/54000 [==============================] - 216s 4ms/sample - loss: 0.0224 - accuracy: 0.9989 - val_loss: 1.1903 - val_accuracy: 0.9862\n",
      "Epoch 50/50\n",
      "54000/54000 [==============================] - 218s 4ms/sample - loss: 0.0271 - accuracy: 0.9988 - val_loss: 1.3497 - val_accuracy: 0.9855\n"
     ]
    }
   ],
   "source": [
    "model.compile(loss='categorical_crossentropy', optimizer='adam', metrics=['accuracy'])\n",
    "checkpoint_filepath = 'Coeff'\n",
    "model_checkpoint_callback = tf.keras.callbacks.ModelCheckpoint(filepath=checkpoint_filepath,monitor='val_accuracy',mode='max',\n",
    "                                                               save_best_only=True)\n",
    "history2 = model.fit(x = [x_train,y_train_ccoeff],y = y_train,epochs = 50,callbacks = [model_checkpoint_callback],\n",
    "                     validation_split=0.1)"
   ]
  },
  {
   "cell_type": "code",
   "execution_count": 19,
   "metadata": {},
   "outputs": [],
   "source": [
    "model = tf.keras.models.load_model('Coeff')"
   ]
  },
  {
   "cell_type": "code",
   "execution_count": 20,
   "metadata": {},
   "outputs": [],
   "source": [
    "y_test_ccoeff = []\n",
    "for img in x_test.astype(np.float32):\n",
    "    ccoeff = []\n",
    "    for i in range(10):\n",
    "        ccoeff.append(cv2.matchTemplate(mean[i],img,cv2.TM_CCOEFF_NORMED))\n",
    "    y_test_ccoeff.append(ccoeff)"
   ]
  },
  {
   "cell_type": "code",
   "execution_count": 21,
   "metadata": {},
   "outputs": [],
   "source": [
    "y_test_ccoeff = np.array(y_test_ccoeff)"
   ]
  },
  {
   "cell_type": "code",
   "execution_count": 23,
   "metadata": {},
   "outputs": [],
   "source": [
    "y_test_ccoeff = np.squeeze(y_test_ccoeff,axis = -1)"
   ]
  },
  {
   "cell_type": "code",
   "execution_count": 25,
   "metadata": {},
   "outputs": [],
   "source": [
    "x_test = np.expand_dims(x_test,axis = -1)"
   ]
  },
  {
   "cell_type": "code",
   "execution_count": 26,
   "metadata": {},
   "outputs": [
    {
     "name": "stdout",
     "output_type": "stream",
     "text": [
      "10000/1 - 8s - loss: 0.1281 - accuracy: 0.9824\n"
     ]
    },
    {
     "data": {
      "text/plain": [
       "[0.2561554617920786, 0.9824]"
      ]
     },
     "execution_count": 26,
     "metadata": {},
     "output_type": "execute_result"
    }
   ],
   "source": [
    "#x_test = np.expand_dims(x_test,axis = -1)\n",
    "model.evaluate([x_test,y_test_ccoeff],y_test, verbose = 2)"
   ]
  },
  {
   "cell_type": "code",
   "execution_count": 14,
   "metadata": {},
   "outputs": [],
   "source": [
    "x_train=  np.expand_dims(x_train,axis = -1)"
   ]
  },
  {
   "cell_type": "code",
   "execution_count": 162,
   "metadata": {},
   "outputs": [],
   "source": [
    "preds = np.argmax(y_test_ccoeff,axis = -1)"
   ]
  },
  {
   "cell_type": "code",
   "execution_count": 163,
   "metadata": {},
   "outputs": [],
   "source": [
    "pred = 0\n",
    "for y1,y2 in zip(y_test,preds):\n",
    "    if (y1 == y2):\n",
    "        pred = pred + 1"
   ]
  },
  {
   "cell_type": "code",
   "execution_count": 164,
   "metadata": {},
   "outputs": [
    {
     "data": {
      "text/plain": [
       "8208"
      ]
     },
     "execution_count": 164,
     "metadata": {},
     "output_type": "execute_result"
    }
   ],
   "source": [
    "pred"
   ]
  },
  {
   "cell_type": "code",
   "execution_count": 18,
   "metadata": {},
   "outputs": [
    {
     "name": "stdout",
     "output_type": "stream",
     "text": [
      "C:\\Users\\DeLL\\desktop\\knowledgevision\n"
     ]
    }
   ],
   "source": [
    "cd knowledgevision\n"
   ]
  },
  {
   "cell_type": "code",
   "execution_count": null,
   "metadata": {},
   "outputs": [],
   "source": []
  }
 ],
 "metadata": {
  "kernelspec": {
   "display_name": "Python 3",
   "language": "python",
   "name": "python3"
  },
  "language_info": {
   "codemirror_mode": {
    "name": "ipython",
    "version": 3
   },
   "file_extension": ".py",
   "mimetype": "text/x-python",
   "name": "python",
   "nbconvert_exporter": "python",
   "pygments_lexer": "ipython3",
   "version": "3.7.3"
  }
 },
 "nbformat": 4,
 "nbformat_minor": 2
}
