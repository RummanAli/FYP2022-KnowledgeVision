{
  "nbformat": 4,
  "nbformat_minor": 0,
  "metadata": {
    "colab": {
      "name": "MNIST ResNet.ipynb",
      "provenance": [],
      "collapsed_sections": [],
      "toc_visible": true,
      "authorship_tag": "ABX9TyN1JQ93CxYWOgyMa28XiaNM",
      "include_colab_link": true
    },
    "kernelspec": {
      "name": "python3",
      "display_name": "Python 3"
    },
    "language_info": {
      "name": "python"
    }
  },
  "cells": [
    {
      "cell_type": "markdown",
      "metadata": {
        "id": "view-in-github",
        "colab_type": "text"
      },
      "source": [
        "<a href=\"https://colab.research.google.com/github/RummanAli/FYP2022-KnowledgeVision/blob/main/MNIST_ResNet.ipynb\" target=\"_parent\"><img src=\"https://colab.research.google.com/assets/colab-badge.svg\" alt=\"Open In Colab\"/></a>"
      ]
    },
    {
      "cell_type": "markdown",
      "metadata": {
        "id": "l4GKbS4YZujB"
      },
      "source": [
        "# ***Code for MNIST ResNet Classification***"
      ]
    },
    {
      "cell_type": "markdown",
      "metadata": {
        "id": "dtXAP96cYpz7"
      },
      "source": [
        "## *Importing Libraries*"
      ]
    },
    {
      "cell_type": "code",
      "metadata": {
        "id": "4vAsQfvaXJqH"
      },
      "source": [
        "import tensorflow as tf\n",
        "\n",
        "import numpy as np\n",
        "import matplotlib.pyplot as plt"
      ],
      "execution_count": 1,
      "outputs": []
    },
    {
      "cell_type": "markdown",
      "metadata": {
        "id": "fvDJx_7pZeHT"
      },
      "source": [
        "## *Importing Dataset MNIST*"
      ]
    },
    {
      "cell_type": "code",
      "metadata": {
        "id": "cKeIA5SaYY_1",
        "colab": {
          "base_uri": "https://localhost:8080/"
        },
        "outputId": "48d508de-7404-4c2f-b019-d37c15b34b6d"
      },
      "source": [
        "mnist = tf.keras.datasets.mnist\n",
        "\n",
        "(train_images, train_labels), (test_images, test_labels) = mnist.load_data()"
      ],
      "execution_count": 2,
      "outputs": [
        {
          "output_type": "stream",
          "text": [
            "Downloading data from https://storage.googleapis.com/tensorflow/tf-keras-datasets/mnist.npz\n",
            "11493376/11490434 [==============================] - 0s 0us/step\n"
          ],
          "name": "stdout"
        }
      ]
    },
    {
      "cell_type": "markdown",
      "metadata": {
        "id": "i9i4ZNVfg_pw"
      },
      "source": [
        "## Image Pixel Range Simplification"
      ]
    },
    {
      "cell_type": "code",
      "metadata": {
        "colab": {
          "base_uri": "https://localhost:8080/",
          "height": 265
        },
        "id": "tkPhkSj3gyxn",
        "outputId": "01047d5a-d482-45b3-c975-f43f6cb9fdf2"
      },
      "source": [
        "# Current Condition\n",
        "\n",
        "plt.figure()\n",
        "plt.imshow(train_images[0])\n",
        "plt.colorbar()\n",
        "plt.grid(False)\n",
        "plt.show()"
      ],
      "execution_count": 3,
      "outputs": [
        {
          "output_type": "display_data",
          "data": {
            "image/png": "[encoded data removed]",
            "text/plain": [
              "<Figure size 432x288 with 2 Axes>"
            ]
          },
          "metadata": {
            "tags": [],
            "needs_background": "light"
          }
        }
      ]
    },
    {
      "cell_type": "code",
      "metadata": {
        "id": "gnM6E2olhc98"
      },
      "source": [
        "# Correction to range of 0-1\n",
        "\n",
        "train_images = train_images/255.0\n",
        "test_imaegs = test_images/255.0\n"
      ],
      "execution_count": 4,
      "outputs": []
    },
    {
      "cell_type": "code",
      "metadata": {
        "colab": {
          "base_uri": "https://localhost:8080/",
          "height": 269
        },
        "id": "kAqLk4vEhu1d",
        "outputId": "2c27ea5a-dce8-43ad-b0ce-3e368a17a1df"
      },
      "source": [
        "# Updated Condition\n",
        "\n",
        "plt.figure()\n",
        "plt.imshow(train_images[0])\n",
        "plt.colorbar()\n",
        "plt.grid(False)\n",
        "plt.show()"
      ],
      "execution_count": 5,
      "outputs": [
        {
          "output_type": "display_data",
          "data": {
            "image/png": "[encoded data removed]",
            "text/plain": [
              "<Figure size 432x288 with 2 Axes>"
            ]
          },
          "metadata": {
            "tags": [],
            "needs_background": "light"
          }
        }
      ]
    },
    {
      "cell_type": "markdown",
      "metadata": {
        "id": "t0opnXkcjlMC"
      },
      "source": [
        "## Verifying Training data"
      ]
    },
    {
      "cell_type": "code",
      "metadata": {
        "colab": {
          "base_uri": "https://localhost:8080/",
          "height": 589
        },
        "id": "qGYt676Jh0ky",
        "outputId": "2f4ce262-62e9-4aa9-a8fb-ce4812b9bb21"
      },
      "source": [
        "# Verifying Training data\n",
        "\n",
        "plt.figure(figsize=(10,10))\n",
        "for i in range(25):\n",
        "  plt.subplot(5,5,i+1)\n",
        "  plt.xticks([])\n",
        "  plt.yticks([])\n",
        "  plt.imshow(train_images[i],cmap=plt.cm.binary)\n",
        "  plt.xlabel(train_labels[i])\n",
        "plt.show()"
      ],
      "execution_count": 6,
      "outputs": [
        {
          "output_type": "display_data",
          "data": {
            "image/png": "[encoded data removed]",
            "text/plain": [
              "<Figure size 720x720 with 25 Axes>"
            ]
          },
          "metadata": {
            "tags": []
          }
        }
      ]
    },
    {
      "cell_type": "markdown",
      "metadata": {
        "id": "bX7ni62vWC4u"
      },
      "source": [
        "## *Build Model*"
      ]
    },
    {
      "cell_type": "code",
      "metadata": {
        "colab": {
          "base_uri": "https://localhost:8080/"
        },
        "id": "f_BL1FLTZJhJ",
        "outputId": "12b94aeb-320e-4480-c84b-3078ba3f7aa0"
      },
      "source": [
        "print(train_images.shape[1:])"
      ],
      "execution_count": 7,
      "outputs": [
        {
          "output_type": "stream",
          "text": [
            "(28, 28)\n"
          ],
          "name": "stdout"
        }
      ]
    },
    {
      "cell_type": "code",
      "metadata": {
        "id": "6M5FQveq42FP"
      },
      "source": [
        "# TRIED SEQUENTIAL MODEL BUT COULDN'T Comprehend a way to Add Skip Connector ( ADD LAYER)\n",
        "\n",
        "#model = tf.keras.Sequential()\n",
        "#model.add(tf.keras.layers.Flatten(input_shape=(28,28)))\n",
        "#model.add(tf.keras.layers.Dense(32,activation='relu'))\n",
        "#model.add(tf.keras.layers.Dense(64,activation='relu'))\n",
        "#model.add(tf.keras.layers.Dense(32))\n",
        "#model.add(tf.keras.layers.Activation(tf.keras.activations.relu))\n",
        "#model.add(tf.keras.layers.Dense(10))\n",
        "\n",
        "# USED This NOTATION To use ADD LAYER\n",
        "\n",
        "model_in = tf.keras.layers.Input((28,28))\n",
        "\n",
        "model = tf.keras.layers.Flatten()(model_in)\n",
        "\n",
        "model_copy = tf.keras.layers.Dense(32,activation='relu')(model)\n",
        "model = tf.keras.layers.Dense(64,activation='relu')(model_copy)\n",
        "model = tf.keras.layers.Dense(32)(model)\n",
        "model = tf.keras.layers.Add()([model,model_copy])\n",
        "model = tf.keras.layers.Activation(tf.keras.activations.relu)(model)\n",
        "model_out = tf.keras.layers.Dense(10,activation=tf.keras.activations.softmax)(model)\n",
        "model = tf.keras.Model(inputs=model_in, outputs=model_out)"
      ],
      "execution_count": 8,
      "outputs": []
    },
    {
      "cell_type": "markdown",
      "metadata": {
        "id": "edV7FeaBWGHa"
      },
      "source": [
        "## *Compile Model*"
      ]
    },
    {
      "cell_type": "code",
      "metadata": {
        "id": "RN-vs7UaWJwk"
      },
      "source": [
        "model.compile(optimizer='adam',loss=tf.keras.losses.SparseCategoricalCrossentropy(from_logits=True),metrics=['accuracy'])\n"
      ],
      "execution_count": 9,
      "outputs": []
    },
    {
      "cell_type": "markdown",
      "metadata": {
        "id": "XUpefKa-W2ZY"
      },
      "source": [
        "## *Training Model*"
      ]
    },
    {
      "cell_type": "code",
      "metadata": {
        "colab": {
          "base_uri": "https://localhost:8080/"
        },
        "id": "83e4HA4AW4lS",
        "outputId": "8a21dc17-a084-4beb-d26f-c1f8a2f7e730"
      },
      "source": [
        "model.fit(train_images,train_labels,epochs=10)"
      ],
      "execution_count": 10,
      "outputs": [
        {
          "output_type": "stream",
          "text": [
            "Epoch 1/10\n"
          ],
          "name": "stdout"
        },
        {
          "output_type": "stream",
          "text": [
            "/usr/local/lib/python3.7/dist-packages/tensorflow/python/keras/backend.py:4930: UserWarning: \"`sparse_categorical_crossentropy` received `from_logits=True`, but the `output` argument was produced by a sigmoid or softmax activation and thus does not represent logits. Was this intended?\"\n",
            "  '\"`sparse_categorical_crossentropy` received `from_logits=True`, but '\n"
          ],
          "name": "stderr"
        },
        {
          "output_type": "stream",
          "text": [
            "1875/1875 [==============================] - 4s 2ms/step - loss: 0.3032 - accuracy: 0.9111\n",
            "Epoch 2/10\n",
            "1875/1875 [==============================] - 3s 2ms/step - loss: 0.1551 - accuracy: 0.9533\n",
            "Epoch 3/10\n",
            "1875/1875 [==============================] - 3s 2ms/step - loss: 0.1181 - accuracy: 0.9635\n",
            "Epoch 4/10\n",
            "1875/1875 [==============================] - 3s 2ms/step - loss: 0.1001 - accuracy: 0.9689\n",
            "Epoch 5/10\n",
            "1875/1875 [==============================] - 3s 2ms/step - loss: 0.0854 - accuracy: 0.9735\n",
            "Epoch 6/10\n",
            "1875/1875 [==============================] - 3s 2ms/step - loss: 0.0748 - accuracy: 0.9768\n",
            "Epoch 7/10\n",
            "1875/1875 [==============================] - 3s 2ms/step - loss: 0.0690 - accuracy: 0.9782\n",
            "Epoch 8/10\n",
            "1875/1875 [==============================] - 3s 2ms/step - loss: 0.0604 - accuracy: 0.9808\n",
            "Epoch 9/10\n",
            "1875/1875 [==============================] - 3s 2ms/step - loss: 0.0559 - accuracy: 0.9819\n",
            "Epoch 10/10\n",
            "1875/1875 [==============================] - 3s 2ms/step - loss: 0.0524 - accuracy: 0.9833\n"
          ],
          "name": "stdout"
        },
        {
          "output_type": "execute_result",
          "data": {
            "text/plain": [
              "<tensorflow.python.keras.callbacks.History at 0x7f7ef6a6e550>"
            ]
          },
          "metadata": {
            "tags": []
          },
          "execution_count": 10
        }
      ]
    },
    {
      "cell_type": "markdown",
      "metadata": {
        "id": "1-Wz3iN2XLyt"
      },
      "source": [
        "## *Evaluate Model according to Test Dataset*"
      ]
    },
    {
      "cell_type": "code",
      "metadata": {
        "id": "VflXLEeECaXC",
        "colab": {
          "base_uri": "https://localhost:8080/"
        },
        "outputId": "0696ba20-e5aa-4b3b-dcb9-19e86f15db12"
      },
      "source": [
        "test_loss, test_acc = model.evaluate(test_images,  test_labels, verbose=2)\n",
        "\n",
        "print('\\nTest accuracy:', test_acc)"
      ],
      "execution_count": 11,
      "outputs": [
        {
          "output_type": "stream",
          "text": [
            "/usr/local/lib/python3.7/dist-packages/tensorflow/python/keras/backend.py:4930: UserWarning: \"`sparse_categorical_crossentropy` received `from_logits=True`, but the `output` argument was produced by a sigmoid or softmax activation and thus does not represent logits. Was this intended?\"\n",
            "  '\"`sparse_categorical_crossentropy` received `from_logits=True`, but '\n"
          ],
          "name": "stderr"
        },
        {
          "output_type": "stream",
          "text": [
            "313/313 - 0s - loss: 24.0208 - accuracy: 0.9666\n",
            "\n",
            "Test accuracy: 0.9666000008583069\n"
          ],
          "name": "stdout"
        }
      ]
    },
    {
      "cell_type": "markdown",
      "metadata": {
        "id": "87S4eQjYXn_e"
      },
      "source": [
        "## **Prediction by Model**"
      ]
    },
    {
      "cell_type": "code",
      "metadata": {
        "id": "H22rj24sXsde"
      },
      "source": [
        "probability_model = tf.keras.Sequential([model,tf.keras.layers.Softmax()])\n",
        "predictions = probability_model.predict(test_images)"
      ],
      "execution_count": 12,
      "outputs": []
    },
    {
      "cell_type": "markdown",
      "metadata": {
        "id": "B1SioPSQYyeJ"
      },
      "source": [
        "## *First 20 test samples predicted* **bold text**"
      ]
    },
    {
      "cell_type": "code",
      "metadata": {
        "colab": {
          "base_uri": "https://localhost:8080/",
          "height": 567
        },
        "id": "5PWQyLvdY9J0",
        "outputId": "9ab5fb39-2855-4d5b-c6a3-7fb25f0da755"
      },
      "source": [
        "plt.figure(figsize=(10,10))\n",
        "for i in range(20):\n",
        "  plt.subplot(4,5,i+1)\n",
        "  plt.xticks([])\n",
        "  plt.yticks([])\n",
        "  plt.imshow(test_images[i],cmap=plt.cm.binary)\n",
        "  plt.xlabel(np.argmax(predictions[i]))"
      ],
      "execution_count": 13,
      "outputs": [
        {
          "output_type": "display_data",
          "data": {
            "image/png": "[encoded data removed]",
            "text/plain": [
              "<Figure size 720x720 with 20 Axes>"
            ]
          },
          "metadata": {
            "tags": []
          }
        }
      ]
    }
  ]
}