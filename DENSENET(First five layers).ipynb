{
 "cells": [
  {
   "cell_type": "code",
   "execution_count": 21,
   "metadata": {},
   "outputs": [
    {
     "ename": "ImportError",
     "evalue": "cannot import name 'Resizing' from 'tensorflow.keras.layers' (C:\\Users\\DeLL\\Anaconda3\\lib\\site-packages\\tensorflow\\python\\keras\\api\\_v2\\keras\\layers\\__init__.py)",
     "output_type": "error",
     "traceback": [
      "\u001b[1;31m---------------------------------------------------------------------------\u001b[0m",
      "\u001b[1;31mImportError\u001b[0m                               Traceback (most recent call last)",
      "\u001b[1;32m<ipython-input-21-82cf22c88ecc>\u001b[0m in \u001b[0;36m<module>\u001b[1;34m\u001b[0m\n\u001b[0;32m      9\u001b[0m \u001b[1;32mfrom\u001b[0m \u001b[0mkeras\u001b[0m \u001b[1;32mimport\u001b[0m \u001b[0mlayers\u001b[0m\u001b[1;33m\u001b[0m\u001b[1;33m\u001b[0m\u001b[0m\n\u001b[0;32m     10\u001b[0m \u001b[1;32mfrom\u001b[0m \u001b[0mPIL\u001b[0m \u001b[1;32mimport\u001b[0m \u001b[0mImage\u001b[0m\u001b[1;33m\u001b[0m\u001b[1;33m\u001b[0m\u001b[0m\n\u001b[1;32m---> 11\u001b[1;33m \u001b[1;32mfrom\u001b[0m \u001b[0mtensorflow\u001b[0m\u001b[1;33m.\u001b[0m\u001b[0mkeras\u001b[0m\u001b[1;33m.\u001b[0m\u001b[0mlayers\u001b[0m \u001b[1;32mimport\u001b[0m \u001b[0mResizing\u001b[0m\u001b[1;33m\u001b[0m\u001b[1;33m\u001b[0m\u001b[0m\n\u001b[0m",
      "\u001b[1;31mImportError\u001b[0m: cannot import name 'Resizing' from 'tensorflow.keras.layers' (C:\\Users\\DeLL\\Anaconda3\\lib\\site-packages\\tensorflow\\python\\keras\\api\\_v2\\keras\\layers\\__init__.py)"
     ]
    }
   ],
   "source": [
    "import tensorflow as tf\n",
    "from tensorflow.keras.utils import to_categorical\n",
    "from tensorflow.keras.models import Sequential\n",
    "from tensorflow.keras.layers import Flatten, Dense, Input, Add, Reshape,Conv2D,MaxPooling2D,ZeroPadding2D,experimental,AveragePooling2D,Concatenate,Dropout\n",
    "from matplotlib import pyplot as plt\n",
    "from tensorflow.keras.models import Model\n",
    "import numpy as np\n",
    "import keras\n",
    "from keras import layers\n",
    "from PIL import Image"
   ]
  },
  {
   "cell_type": "code",
   "execution_count": 42,
   "metadata": {},
   "outputs": [],
   "source": [
    "(x_train, y_train), (x_test, y_test) = tf.keras.datasets.cifar10.load_data()"
   ]
  },
  {
   "cell_type": "code",
   "execution_count": 4,
   "metadata": {},
   "outputs": [],
   "source": [
    "y_train = tf.keras.utils.to_categorical(y_train)\n",
    "y_test = tf.keras.utils.to_categorical(y_test)"
   ]
  },
  {
   "cell_type": "code",
   "execution_count": 43,
   "metadata": {},
   "outputs": [],
   "source": [
    "Y_test = tf.keras.utils.to_categorical(y_test)"
   ]
  },
  {
   "cell_type": "code",
   "execution_count": 25,
   "metadata": {},
   "outputs": [],
   "source": [
    "X_train = []\n",
    "for i,img in enumerate(x_train):\n",
    "  X_train.append(np.array(Image.fromarray(img).convert('L').resize((34,34),Image.BILINEAR)))"
   ]
  },
  {
   "cell_type": "code",
   "execution_count": 26,
   "metadata": {},
   "outputs": [],
   "source": [
    "X_train = np.array(X_train)\n",
    "X_train = np.expand_dims(X_train,axis = -1)"
   ]
  },
  {
   "cell_type": "code",
   "execution_count": 39,
   "metadata": {},
   "outputs": [],
   "source": [
    "i = tf.keras.layers.Input([32, 32, 3], dtype = tf.uint8)\n",
    "x = tf.cast(i, tf.float32)\n",
    "x = tf.keras.applications.densenet.preprocess_input(x)\n",
    "core = tf.keras.applications.DenseNet121( include_top=False,\n",
    "    weights=\"imagenet\",\n",
    "    input_tensor=None,\n",
    "    input_shape=None,\n",
    "    pooling=None,\n",
    "    classes=10)\n",
    "x = core.layers[5](x)\n",
    "model = tf.keras.Model(inputs=[i], outputs=[x])"
   ]
  },
  {
   "cell_type": "code",
   "execution_count": 8,
   "metadata": {},
   "outputs": [],
   "source": [
    "syn = []\n",
    "for img in x_train[:10000]:\n",
    "  img = np.expand_dims(img,axis = 0)\n",
    "  filters = np.squeeze(model(img),axis = 0)\n",
    "  #syn.append(filters)\n",
    "  for j in range(3):\n",
    "    syn.append(filters[:,:,j])"
   ]
  },
  {
   "cell_type": "code",
   "execution_count": 9,
   "metadata": {},
   "outputs": [],
   "source": [
    "labels = []\n",
    "for i in y_train[:10000]:\n",
    "    for j in range(3):\n",
    "      labels.append(i)"
   ]
  },
  {
   "cell_type": "code",
   "execution_count": 17,
   "metadata": {},
   "outputs": [],
   "source": [
    "labels = np.array(labels)\n",
    "data   = np.array(syn)\n",
    "data = np.expand_dims(data,axis = -1)"
   ]
  },
  {
   "cell_type": "code",
   "execution_count": 40,
   "metadata": {},
   "outputs": [],
   "source": [
    "#input = Input((34,34,1))\n",
    "c1l1  = Conv2D(32,3,(1,1),padding = 'same',activation='relu')(x)\n",
    "c1l2  = Conv2D(32,3,(1,1),padding = 'same',activation='relu')(c1l1)\n",
    "ces2  = Add()([c1l2, c1l1])\n",
    "c1l3  = Conv2D(32,3,(1,1),padding = 'same',activation='relu')(ces2)\n",
    "ces3  = Add()([c1l3, ces2])\n",
    "ces3  = Flatten()(ces3)\n",
    "ces3  = Dropout(0.5)(ces3)\n",
    "ces3  = Dense(10,activation='softmax')(ces3)\n",
    "model = Model(inputs=i, outputs=ces3)"
   ]
  },
  {
   "cell_type": "code",
   "execution_count": 41,
   "metadata": {},
   "outputs": [
    {
     "name": "stdout",
     "output_type": "stream",
     "text": [
      "Train on 45000 samples, validate on 5000 samples\n",
      "Epoch 1/50\n",
      "45000/45000 [==============================] - 339s 8ms/sample - loss: 1.4392 - accuracy: 0.5236 - val_loss: 1.1117 - val_accuracy: 0.6120\n",
      "Epoch 2/50\n",
      "45000/45000 [==============================] - 232s 5ms/sample - loss: 0.9723 - accuracy: 0.6646 - val_loss: 1.0844 - val_accuracy: 0.6330\n",
      "Epoch 3/50\n",
      "45000/45000 [==============================] - 225s 5ms/sample - loss: 0.8035 - accuracy: 0.7218 - val_loss: 1.0933 - val_accuracy: 0.6432\n",
      "Epoch 4/50\n",
      "45000/45000 [==============================] - 241s 5ms/sample - loss: 0.6563 - accuracy: 0.7738 - val_loss: 1.1787 - val_accuracy: 0.6450\n",
      "Epoch 5/50\n",
      "45000/45000 [==============================] - 227s 5ms/sample - loss: 0.5144 - accuracy: 0.8222 - val_loss: 1.1778 - val_accuracy: 0.6586\n",
      "Epoch 6/50\n",
      "45000/45000 [==============================] - 220s 5ms/sample - loss: 0.4003 - accuracy: 0.8633 - val_loss: 1.3852 - val_accuracy: 0.6404\n",
      "Epoch 7/50\n",
      "45000/45000 [==============================] - 219s 5ms/sample - loss: 0.2962 - accuracy: 0.8991 - val_loss: 1.5515 - val_accuracy: 0.6360\n",
      "Epoch 8/50\n",
      "45000/45000 [==============================] - 215s 5ms/sample - loss: 0.2279 - accuracy: 0.9218 - val_loss: 1.6609 - val_accuracy: 0.6456\n",
      "Epoch 9/50\n",
      "45000/45000 [==============================] - 212s 5ms/sample - loss: 0.1839 - accuracy: 0.9362 - val_loss: 1.8402 - val_accuracy: 0.6360\n",
      "Epoch 10/50\n",
      "45000/45000 [==============================] - 216s 5ms/sample - loss: 0.1547 - accuracy: 0.9474 - val_loss: 2.0202 - val_accuracy: 0.6408\n",
      "Epoch 11/50\n",
      "45000/45000 [==============================] - 221s 5ms/sample - loss: 0.1400 - accuracy: 0.9532 - val_loss: 2.2439 - val_accuracy: 0.6234\n",
      "Epoch 12/50\n",
      "45000/45000 [==============================] - 217s 5ms/sample - loss: 0.1184 - accuracy: 0.9602 - val_loss: 2.3972 - val_accuracy: 0.6390\n",
      "Epoch 13/50\n",
      "45000/45000 [==============================] - 233s 5ms/sample - loss: 0.1164 - accuracy: 0.9610 - val_loss: 2.4601 - val_accuracy: 0.6232\n",
      "Epoch 14/50\n",
      "45000/45000 [==============================] - 268s 6ms/sample - loss: 0.1030 - accuracy: 0.9650 - val_loss: 2.5280 - val_accuracy: 0.6412\n",
      "Epoch 15/50\n",
      "45000/45000 [==============================] - 249s 6ms/sample - loss: 0.0928 - accuracy: 0.9687 - val_loss: 2.6204 - val_accuracy: 0.6330\n",
      "Epoch 16/50\n",
      "45000/45000 [==============================] - 245s 5ms/sample - loss: 0.0949 - accuracy: 0.9695 - val_loss: 2.7954 - val_accuracy: 0.6232\n",
      "Epoch 17/50\n",
      "45000/45000 [==============================] - 235s 5ms/sample - loss: 0.0865 - accuracy: 0.9719 - val_loss: 3.0018 - val_accuracy: 0.6292\n",
      "Epoch 18/50\n",
      "45000/45000 [==============================] - 234s 5ms/sample - loss: 0.0909 - accuracy: 0.9699 - val_loss: 2.9947 - val_accuracy: 0.6216\n",
      "Epoch 19/50\n",
      "45000/45000 [==============================] - 231s 5ms/sample - loss: 0.0824 - accuracy: 0.9736 - val_loss: 3.0499 - val_accuracy: 0.6154\n",
      "Epoch 20/50\n",
      "45000/45000 [==============================] - 226s 5ms/sample - loss: 0.0747 - accuracy: 0.9754 - val_loss: 3.1151 - val_accuracy: 0.6244\n",
      "Epoch 21/50\n",
      "45000/45000 [==============================] - 222s 5ms/sample - loss: 0.0787 - accuracy: 0.9753 - val_loss: 3.2742 - val_accuracy: 0.6206\n",
      "Epoch 22/50\n",
      "45000/45000 [==============================] - 229s 5ms/sample - loss: 0.0754 - accuracy: 0.9757 - val_loss: 3.2970 - val_accuracy: 0.6190\n",
      "Epoch 23/50\n",
      "45000/45000 [==============================] - 236s 5ms/sample - loss: 0.0755 - accuracy: 0.9768 - val_loss: 3.3117 - val_accuracy: 0.6170\n",
      "Epoch 24/50\n",
      "45000/45000 [==============================] - 225s 5ms/sample - loss: 0.0676 - accuracy: 0.9791 - val_loss: 3.4228 - val_accuracy: 0.6222\n",
      "Epoch 25/50\n",
      "45000/45000 [==============================] - 221s 5ms/sample - loss: 0.0858 - accuracy: 0.9759 - val_loss: 3.5509 - val_accuracy: 0.6176\n",
      "Epoch 26/50\n",
      "45000/45000 [==============================] - 229s 5ms/sample - loss: 0.0650 - accuracy: 0.9808 - val_loss: 3.5915 - val_accuracy: 0.6146\n",
      "Epoch 27/50\n",
      "45000/45000 [==============================] - 227s 5ms/sample - loss: 0.0702 - accuracy: 0.9789 - val_loss: 3.4651 - val_accuracy: 0.6306\n",
      "Epoch 28/50\n",
      "45000/45000 [==============================] - 215s 5ms/sample - loss: 0.0686 - accuracy: 0.9796 - val_loss: 3.7385 - val_accuracy: 0.6178\n",
      "Epoch 29/50\n",
      "45000/45000 [==============================] - 216s 5ms/sample - loss: 0.0697 - accuracy: 0.9801 - val_loss: 3.7283 - val_accuracy: 0.6154\n",
      "Epoch 30/50\n",
      "45000/45000 [==============================] - 216s 5ms/sample - loss: 0.0617 - accuracy: 0.9816 - val_loss: 3.9754 - val_accuracy: 0.5966\n",
      "Epoch 31/50\n",
      "45000/45000 [==============================] - 220s 5ms/sample - loss: 0.0634 - accuracy: 0.9819 - val_loss: 3.9018 - val_accuracy: 0.6128\n",
      "Epoch 32/50\n",
      "45000/45000 [==============================] - 252s 6ms/sample - loss: 0.0729 - accuracy: 0.9795 - val_loss: 3.9002 - val_accuracy: 0.6178\n",
      "Epoch 33/50\n",
      "45000/45000 [==============================] - 223s 5ms/sample - loss: 0.0610 - accuracy: 0.9818 - val_loss: 3.9349 - val_accuracy: 0.6144\n",
      "Epoch 34/50\n",
      "45000/45000 [==============================] - 227s 5ms/sample - loss: 0.0687 - accuracy: 0.9817 - val_loss: 3.8215 - val_accuracy: 0.6268\n",
      "Epoch 35/50\n",
      "45000/45000 [==============================] - 222s 5ms/sample - loss: 0.0602 - accuracy: 0.9837 - val_loss: 4.0012 - val_accuracy: 0.6148\n",
      "Epoch 36/50\n",
      "45000/45000 [==============================] - 220s 5ms/sample - loss: 0.0640 - accuracy: 0.9825 - val_loss: 3.9515 - val_accuracy: 0.6258\n",
      "Epoch 37/50\n",
      "45000/45000 [==============================] - 216s 5ms/sample - loss: 0.0663 - accuracy: 0.9825 - val_loss: 3.9492 - val_accuracy: 0.6226\n",
      "Epoch 38/50\n",
      "45000/45000 [==============================] - 210s 5ms/sample - loss: 0.0659 - accuracy: 0.9831 - val_loss: 4.1521 - val_accuracy: 0.6144\n",
      "Epoch 39/50\n",
      "45000/45000 [==============================] - 213s 5ms/sample - loss: 0.0656 - accuracy: 0.9830 - val_loss: 4.0623 - val_accuracy: 0.6170\n",
      "Epoch 40/50\n",
      "45000/45000 [==============================] - 209s 5ms/sample - loss: 0.0605 - accuracy: 0.9846 - val_loss: 4.0705 - val_accuracy: 0.6206\n",
      "Epoch 41/50\n",
      "45000/45000 [==============================] - 210s 5ms/sample - loss: 0.0655 - accuracy: 0.9835 - val_loss: 4.2497 - val_accuracy: 0.6090\n",
      "Epoch 42/50\n",
      "45000/45000 [==============================] - 211s 5ms/sample - loss: 0.0649 - accuracy: 0.9838 - val_loss: 4.3368 - val_accuracy: 0.6148\n",
      "Epoch 43/50\n",
      "45000/45000 [==============================] - 211s 5ms/sample - loss: 0.0568 - accuracy: 0.9855 - val_loss: 4.2029 - val_accuracy: 0.6182\n",
      "Epoch 44/50\n",
      "45000/45000 [==============================] - 209s 5ms/sample - loss: 0.0610 - accuracy: 0.9849 - val_loss: 4.3303 - val_accuracy: 0.6110\n",
      "Epoch 45/50\n",
      "45000/45000 [==============================] - 210s 5ms/sample - loss: 0.0643 - accuracy: 0.9845 - val_loss: 4.3510 - val_accuracy: 0.6170\n",
      "Epoch 46/50\n",
      "45000/45000 [==============================] - 209s 5ms/sample - loss: 0.0548 - accuracy: 0.9860 - val_loss: 4.5272 - val_accuracy: 0.6080\n",
      "Epoch 47/50\n",
      "45000/45000 [==============================] - 219s 5ms/sample - loss: 0.0687 - accuracy: 0.9843 - val_loss: 4.3063 - val_accuracy: 0.6202\n",
      "Epoch 48/50\n",
      "45000/45000 [==============================] - 226s 5ms/sample - loss: 0.0575 - accuracy: 0.9860 - val_loss: 4.3721 - val_accuracy: 0.6226\n",
      "Epoch 49/50\n",
      "45000/45000 [==============================] - 230s 5ms/sample - loss: 0.0689 - accuracy: 0.9848 - val_loss: 4.3423 - val_accuracy: 0.6226\n",
      "Epoch 50/50\n",
      "45000/45000 [==============================] - 222s 5ms/sample - loss: 0.0606 - accuracy: 0.9868 - val_loss: 4.4463 - val_accuracy: 0.6214\n"
     ]
    },
    {
     "data": {
      "text/plain": [
       "<tensorflow.python.keras.callbacks.History at 0x1dcd82e4780>"
      ]
     },
     "execution_count": 41,
     "metadata": {},
     "output_type": "execute_result"
    }
   ],
   "source": [
    "batch_size = 32\n",
    "#callback = tf.keras.callbacks.EarlyStopping(monitor='val_loss', patience=3)\n",
    "model.compile(loss=\"categorical_crossentropy\", optimizer=\"adam\", metrics=[\"accuracy\"])\n",
    "\n",
    "model.fit(x_train, y_train, batch_size=batch_size, epochs=50,shuffle = True, validation_split=0.1)#,callbacks=[callback])"
   ]
  },
  {
   "cell_type": "code",
   "execution_count": 44,
   "metadata": {},
   "outputs": [
    {
     "name": "stdout",
     "output_type": "stream",
     "text": [
      "1000/1000 [==============================] - 1s 1ms/sample - loss: 3.7187 - accuracy: 0.6660\n",
      "1000/1000 [==============================] - 1s 1ms/sample - loss: 3.0601 - accuracy: 0.7370\n",
      "1000/1000 [==============================] - 1s 1ms/sample - loss: 6.2173 - accuracy: 0.4730\n",
      "1000/1000 [==============================] - 1s 1ms/sample - loss: 8.0557 - accuracy: 0.3660\n",
      "1000/1000 [==============================] - 1s 1ms/sample - loss: 4.7525 - accuracy: 0.5690\n",
      "1000/1000 [==============================] - 1s 1ms/sample - loss: 5.3997 - accuracy: 0.5320\n",
      "1000/1000 [==============================] - 1s 1ms/sample - loss: 3.3507 - accuracy: 0.7050\n",
      "1000/1000 [==============================] - 1s 1ms/sample - loss: 4.1720 - accuracy: 0.6400\n",
      "1000/1000 [==============================] - 1s 1ms/sample - loss: 3.7765 - accuracy: 0.6680\n",
      "1000/1000 [==============================] - 1s 1ms/sample - loss: 3.6370 - accuracy: 0.6910\n"
     ]
    },
    {
     "data": {
      "text/plain": [
       "'\\nairplane\\nautomobile\\nbird \\ncat\\ndeer\\ndog\\nfrog\\nhorse\\nship\\ntruck\\n'"
      ]
     },
     "execution_count": 44,
     "metadata": {},
     "output_type": "execute_result"
    }
   ],
   "source": [
    "result = []\n",
    "for i in range(10):\n",
    "  pos,_ = np.where(y_test == i)\n",
    "  result.append(model.evaluate(x_test[pos],Y_test[pos],batch_size=100))\n",
    "'''\n",
    "airplane\n",
    "automobile\n",
    "bird \n",
    "cat\n",
    "deer\n",
    "dog\n",
    "frog\n",
    "horse\n",
    "ship\n",
    "truck\n",
    "'''"
   ]
  },
  {
   "cell_type": "code",
   "execution_count": 45,
   "metadata": {},
   "outputs": [
    {
     "name": "stdout",
     "output_type": "stream",
     "text": [
      "10000/10000 [==============================] - 12s 1ms/sample - loss: 4.6140 - accuracy: 0.6047\n"
     ]
    },
    {
     "data": {
      "text/plain": [
       "[4.614019118499756, 0.6047]"
      ]
     },
     "execution_count": 45,
     "metadata": {},
     "output_type": "execute_result"
    }
   ],
   "source": [
    "model.evaluate(x_test,Y_test)"
   ]
  },
  {
   "cell_type": "code",
   "execution_count": 48,
   "metadata": {},
   "outputs": [],
   "source": [
    "x = .6080+.7750+.5600+0.4170+0.5250+0.4160+0.6850+0.5920+0.7000+0.6970"
   ]
  },
  {
   "cell_type": "code",
   "execution_count": 49,
   "metadata": {},
   "outputs": [
    {
     "data": {
      "text/plain": [
       "5.975"
      ]
     },
     "execution_count": 49,
     "metadata": {},
     "output_type": "execute_result"
    }
   ],
   "source": [
    "x"
   ]
  },
  {
   "cell_type": "code",
   "execution_count": null,
   "metadata": {},
   "outputs": [],
   "source": [
    "\"\"\"\n",
    "10% accuracy on validation, loss remain 14.\n",
    "\n",
    "\"\"\""
   ]
  },
  {
   "cell_type": "code",
   "execution_count": 50,
   "metadata": {},
   "outputs": [
    {
     "data": {
      "text/plain": [
       "[<tensorflow.python.keras.engine.input_layer.InputLayer at 0x1dcd802dba8>,\n",
       " <tensorflow.python.keras.engine.base_layer.TensorFlowOpLayer at 0x1dcf29b8e10>,\n",
       " <tensorflow.python.keras.engine.base_layer.TensorFlowOpLayer at 0x1dcf29ebe48>,\n",
       " <tensorflow.python.keras.engine.base_layer.TensorFlowOpLayer at 0x1dcf29be0f0>,\n",
       " <tensorflow.python.keras.engine.base_layer.TensorFlowOpLayer at 0x1dcdfe5d2e8>,\n",
       " <tensorflow.python.keras.layers.convolutional.ZeroPadding2D at 0x1dcd8368e80>,\n",
       " <tensorflow.python.keras.layers.convolutional.Conv2D at 0x1dcf29f97b8>,\n",
       " <tensorflow.python.keras.layers.convolutional.Conv2D at 0x1dcf29ff320>,\n",
       " <tensorflow.python.keras.layers.merge.Add at 0x1dcd802d978>,\n",
       " <tensorflow.python.keras.layers.convolutional.Conv2D at 0x1dcf29f9da0>,\n",
       " <tensorflow.python.keras.layers.merge.Add at 0x1dcf29f9eb8>,\n",
       " <tensorflow.python.keras.layers.core.Flatten at 0x1dcf14fb470>,\n",
       " <tensorflow.python.keras.layers.core.Dense at 0x1dcf14fb3c8>]"
      ]
     },
     "execution_count": 50,
     "metadata": {},
     "output_type": "execute_result"
    }
   ],
   "source": [
    "model.layers"
   ]
  },
  {
   "cell_type": "code",
   "execution_count": null,
   "metadata": {},
   "outputs": [],
   "source": []
  }
 ],
 "metadata": {
  "kernelspec": {
   "display_name": "Python 3",
   "language": "python",
   "name": "python3"
  },
  "language_info": {
   "codemirror_mode": {
    "name": "ipython",
    "version": 3
   },
   "file_extension": ".py",
   "mimetype": "text/x-python",
   "name": "python",
   "nbconvert_exporter": "python",
   "pygments_lexer": "ipython3",
   "version": "3.7.3"
  }
 },
 "nbformat": 4,
 "nbformat_minor": 2
}
