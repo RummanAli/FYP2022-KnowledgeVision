{
  "nbformat": 4,
  "nbformat_minor": 0,
  "metadata": {
    "colab": {
      "name": "Dermnet_final.ipynb",
      "provenance": [],
      "mount_file_id": "1aXcvq5r__dqAQM9nLI2vtY1RfT5mnuKc",
      "authorship_tag": "ABX9TyNfn4DELyvGdHB459Tn8p1M",
      "include_colab_link": true
    },
    "kernelspec": {
      "name": "python3",
      "display_name": "Python 3"
    },
    "language_info": {
      "name": "python"
    }
  },
  "cells": [
    {
      "cell_type": "markdown",
      "metadata": {
        "id": "view-in-github",
        "colab_type": "text"
      },
      "source": [
        "<a href=\"https://colab.research.google.com/github/RummanAli/FYP2022-KnowledgeVision/blob/main/Dermnet_final.ipynb\" target=\"_parent\"><img src=\"https://colab.research.google.com/assets/colab-badge.svg\" alt=\"Open In Colab\"/></a>"
      ]
    },
    {
      "cell_type": "markdown",
      "metadata": {
        "id": "QG0bj_3kpIC7"
      },
      "source": [
        "# K-fold-Cross-Validation"
      ]
    },
    {
      "cell_type": "code",
      "source": [
        "from sklearn.model_selection import StratifiedKFold, StratifiedShuffleSplit\n",
        "import numpy as np\n",
        "import pandas as pd"
      ],
      "metadata": {
        "id": "GX9gkHXU4f9U"
      },
      "execution_count": null,
      "outputs": []
    },
    {
      "cell_type": "code",
      "execution_count": null,
      "metadata": {
        "id": "JouN_f-qpRNe"
      },
      "outputs": [],
      "source": [
        "from sklearn.model_selection import StratifiedKFold, StratifiedShuffleSplit\n",
        "skf = StratifiedKFold(n_splits=5, random_state=42, shuffle=True)\n",
        "train_folds = []\n",
        "val_folds = []\n",
        "for train_index, val_index in skf.split(list_IDs,labels):\n",
        "  train_folds.append(train_index)\n",
        "  val_folds.append(val_index)"
      ]
    },
    {
      "cell_type": "code",
      "source": [
        "folds = []\n",
        "for train_fold,val_fold in zip(train_folds,val_folds):\n",
        "  fold = {'train': [],'validation' : []}\n",
        "  for x in train_fold:\n",
        "    a = df['patientID'].unique()[x]\n",
        "    index = df.index[df['patientID']== a].tolist()\n",
        "    for img in index:\n",
        "      fold['train'].append(df['imageID'][img])\n",
        "\n",
        "  for y in val_fold:\n",
        "    a = df['patientID'].unique()[y]\n",
        "    index = df.index[df['patientID']== a].tolist()\n",
        "    for img in index:\n",
        "      fold['validation'].append(df['imageID'][img])\n",
        "  folds.append(fold)"
      ],
      "metadata": {
        "id": "VZiNJ1uKb-74"
      },
      "execution_count": null,
      "outputs": []
    },
    {
      "cell_type": "markdown",
      "source": [
        "# Training"
      ],
      "metadata": {
        "id": "4gs3y9ehXDLK"
      }
    },
    {
      "cell_type": "code",
      "execution_count": null,
      "metadata": {
        "id": "RQf1-8P3QuQx"
      },
      "outputs": [],
      "source": [
        "import numpy as np\n",
        "import os\n",
        "import tensorflow as tf\n",
        "from tensorflow.keras.utils import to_categorical\n",
        "from tensorflow.keras.models import Sequential\n",
        "from tensorflow.keras.layers import *\n",
        "from tensorflow.keras.models import Model\n",
        "from tensorflow.keras.preprocessing.image import ImageDataGenerator\n",
        "from tensorflow.keras import regularizers\n",
        "from tensorflow.keras.callbacks import LearningRateScheduler\n",
        "from tensorflow.keras.callbacks import ModelCheckpoint"
      ]
    },
    {
      "cell_type": "code",
      "source": [
        "import numpy as np\n",
        "import keras\n",
        "import tensorflow\n",
        "class DataGenerator(tensorflow.keras.utils.Sequence):\n",
        "    'Generates data for Keras'\n",
        "    def __init__(self, list_IDs, labels, batch_size=32, dim=(224,224), n_channels=3,\n",
        "                 n_classes=23, shuffle=True):\n",
        "        'Initialization'\n",
        "        self.dim = dim\n",
        "        self.batch_size = batch_size\n",
        "        self.labels = labels\n",
        "        self.list_IDs = list_IDs\n",
        "        self.n_channels = n_channels\n",
        "        self.n_classes = n_classes\n",
        "        self.shuffle = shuffle\n",
        "        self.on_epoch_end()\n",
        "\n",
        "    def __len__(self):\n",
        "        'Denotes the number of batches per epoch'\n",
        "        return int(np.floor(len(self.list_IDs) / self.batch_size))\n",
        "\n",
        "    def __getitem__(self, index):\n",
        "        'Generate one batch of data'\n",
        "        # Generate indexes of the batch\n",
        "        indexes = self.indexes[index*self.batch_size:(index+1)*self.batch_size]\n",
        "\n",
        "        # Find list of IDs\n",
        "        list_IDs_temp = [self.list_IDs[k] for k in indexes]\n",
        "\n",
        "        # Generate data\n",
        "        X, y = self.__data_generation(list_IDs_temp)\n",
        "\n",
        "        return X, y\n",
        "\n",
        "    def on_epoch_end(self):\n",
        "        'Updates indexes after each epoch'\n",
        "        self.indexes = np.arange(len(self.list_IDs))\n",
        "        if self.shuffle == True:\n",
        "            np.random.shuffle(self.indexes)\n",
        "\n",
        "    def __data_generation(self, list_IDs_temp):\n",
        "        'Generates data containing batch_size samples' # X : (n_samples, *dim, n_channels)\n",
        "        # Initialization\n",
        "        X = np.empty((self.batch_size, *self.dim, self.n_channels))\n",
        "        y = np.empty((self.batch_size), dtype=int)\n",
        "        # Generate data\n",
        "        for i, ID in enumerate(list_IDs_temp):\n",
        "            # Store sample\n",
        "            img = Image.open(ID)\n",
        "            img = tf.keras.preprocessing.image.smart_resize(np.array(img),(224,224))\n",
        "            X[i,] = img\n",
        "\n",
        "            # Store class\n",
        "            y[i] = self.labels[ID]\n",
        "            \n",
        "        return X, tensorflow.keras.utils.to_categorical(y, num_classes=self.n_classes)"
      ],
      "metadata": {
        "id": "U7u1psdGQ8x1"
      },
      "execution_count": null,
      "outputs": []
    },
    {
      "cell_type": "code",
      "source": [
        "import os\n",
        "a = os.listdir('drive/MyDrive/archive/train/')\n",
        "a.sort()\n",
        "a"
      ],
      "metadata": {
        "colab": {
          "base_uri": "https://localhost:8080/"
        },
        "id": "kA1djykQXjsW",
        "outputId": "8640f6c3-3d0f-4d01-f2de-abfa2bc572e9"
      },
      "execution_count": null,
      "outputs": [
        {
          "output_type": "execute_result",
          "data": {
            "text/plain": [
              "['Acne and Rosacea Photos',\n",
              " 'Actinic Keratosis Basal Cell Carcinoma and other Malignant Lesions',\n",
              " 'Atopic Dermatitis Photos',\n",
              " 'Bullous Disease Photos',\n",
              " 'Cellulitis Impetigo and other Bacterial Infections',\n",
              " 'Eczema Photos',\n",
              " 'Exanthems and Drug Eruptions',\n",
              " 'Hair Loss Photos Alopecia and other Hair Diseases',\n",
              " 'Herpes HPV and other STDs Photos',\n",
              " 'Light Diseases and Disorders of Pigmentation',\n",
              " 'Lupus and other Connective Tissue diseases',\n",
              " 'Melanoma Skin Cancer Nevi and Moles',\n",
              " 'Nail Fungus and other Nail Disease',\n",
              " 'Poison Ivy Photos and other Contact Dermatitis',\n",
              " 'Psoriasis pictures Lichen Planus and related diseases',\n",
              " 'Scabies Lyme Disease and other Infestations and Bites',\n",
              " 'Seborrheic Keratoses and other Benign Tumors',\n",
              " 'Systemic Disease',\n",
              " 'Tinea Ringworm Candidiasis and other Fungal Infections',\n",
              " 'Urticaria Hives',\n",
              " 'Vascular Tumors',\n",
              " 'Vasculitis Photos',\n",
              " 'Warts Molluscum and other Viral Infections']"
            ]
          },
          "metadata": {},
          "execution_count": 13
        }
      ]
    },
    {
      "cell_type": "code",
      "source": [
        "from __future__ import print_function\n",
        "from __future__ import division\n",
        "import torch\n",
        "import torch.nn as nn\n",
        "import torch.optim as optim\n",
        "import numpy as np\n",
        "import torchvision\n",
        "from torchvision import datasets, models, transforms\n",
        "import matplotlib.pyplot as plt\n",
        "import time\n",
        "import os\n",
        "import copy\n",
        "import sklearn\n",
        "import os\n",
        "import numpy as np\n",
        "import numpy as np\n",
        "image_datasets = {x: datasets.ImageFolder(os.path.join('drive/MyDrive/archive', x)) for x in ['train', 'test']}\n",
        "dataloaders_dict = {x: torch.utils.data.DataLoader(image_datasets[x], batch_size=8, shuffle=True, num_workers=4) for x in ['train', 'test']}\n"
      ],
      "metadata": {
        "colab": {
          "base_uri": "https://localhost:8080/"
        },
        "id": "laZglCrKYVO7",
        "outputId": "5b40b797-4ff5-49e2-dba3-194e5424dac0"
      },
      "execution_count": null,
      "outputs": [
        {
          "output_type": "stream",
          "name": "stderr",
          "text": [
            "/usr/local/lib/python3.7/dist-packages/torch/utils/data/dataloader.py:490: UserWarning: This DataLoader will create 4 worker processes in total. Our suggested max number of worker in current system is 2, which is smaller than what this DataLoader is going to create. Please be aware that excessive worker creation might get DataLoader running slow or even freeze, lower the worker number to avoid potential slowness/freeze if necessary.\n",
            "  cpuset_checked))\n"
          ]
        }
      ]
    },
    {
      "cell_type": "code",
      "source": [
        "print(image_datasets['test'].class_to_idx)"
      ],
      "metadata": {
        "colab": {
          "base_uri": "https://localhost:8080/"
        },
        "id": "qf510rdNYwOi",
        "outputId": "c8193a9a-52e8-4ae2-9139-f51a42dc6b1f"
      },
      "execution_count": null,
      "outputs": [
        {
          "output_type": "stream",
          "name": "stdout",
          "text": [
            "{'Acne and Rosacea Photos': 0, 'Actinic Keratosis Basal Cell Carcinoma and other Malignant Lesions': 1, 'Atopic Dermatitis Photos': 2, 'Bullous Disease Photos': 3, 'Cellulitis Impetigo and other Bacterial Infections': 4, 'Eczema Photos': 5, 'Exanthems and Drug Eruptions': 6, 'Hair Loss Photos Alopecia and other Hair Diseases': 7, 'Herpes HPV and other STDs Photos': 8, 'Light Diseases and Disorders of Pigmentation': 9, 'Lupus and other Connective Tissue diseases': 10, 'Melanoma Skin Cancer Nevi and Moles': 11, 'Nail Fungus and other Nail Disease': 12, 'Poison Ivy Photos and other Contact Dermatitis': 13, 'Psoriasis pictures Lichen Planus and related diseases': 14, 'Scabies Lyme Disease and other Infestations and Bites': 15, 'Seborrheic Keratoses and other Benign Tumors': 16, 'Systemic Disease': 17, 'Tinea Ringworm Candidiasis and other Fungal Infections': 18, 'Urticaria Hives': 19, 'Vascular Tumors': 20, 'Vasculitis Photos': 21, 'Warts Molluscum and other Viral Infections': 22}\n"
          ]
        }
      ]
    },
    {
      "cell_type": "code",
      "source": [
        "img_list = os.listdir('../input/dermnet/train')\n",
        "img_list.sort()\n",
        "list_IDs = []\n",
        "labels = {}\n",
        "for i,path in enumerate(img_list):\n",
        "    for img in os.listdir(os.path.join('../input/dermnet/train',path)):\n",
        "        final = os.path.join('../input/dermnet/train',path,img)\n",
        "        list_IDs.append(final)\n",
        "        labels[final] = i\n",
        "\n",
        "        \n",
        "img_list = os.listdir('../input/dermnet/test')\n",
        "img_list.sort()\n",
        "list_IDs2 = []\n",
        "labels2 = {}\n",
        "for i,path in enumerate(img_list):\n",
        "    for img in os.listdir(os.path.join('../input/dermnet/test',path)):\n",
        "        final = os.path.join('../input/dermnet/test',path,img)\n",
        "        list_IDs2.append(final)\n",
        "        labels2[final] = i\n"
      ],
      "metadata": {
        "id": "NFkkBdKJRGUc"
      },
      "execution_count": null,
      "outputs": []
    },
    {
      "cell_type": "code",
      "source": [
        "data_augmentation = tf.keras.Sequential([\n",
        "  tf.keras.layers.RandomFlip('horizontal')\n",
        "])"
      ],
      "metadata": {
        "id": "INBup98-RLRU"
      },
      "execution_count": null,
      "outputs": []
    },
    {
      "cell_type": "code",
      "source": [
        "class_weight = {0: 840., 1: 1149.,2: 489.,3: 448., 4: 288., 5: 1235., 6: 404.,7: 239.,8: 405.,9: 568.,10: 420.,11: 463.,\n",
        "                12: 1040., 13: 260., 14: 1405.,15: 431., 16: 1371., 17: 606., 18: 1300.,19: 212.,20: 482.,21: 416.,22: 1086.}"
      ],
      "metadata": {
        "id": "ahJLZdmHSAlV"
      },
      "execution_count": null,
      "outputs": []
    },
    {
      "cell_type": "code",
      "source": [
        "step = tf.Variable(0, trainable=False)\n",
        "boundaries = [5, 10,15,20]\n",
        "values = [0.0001, 0.0001/2, 0.0001/4,0.0001/8,0.0001/16]\n",
        "learning_rate_fn = keras.optimizers.schedules.PiecewiseConstantDecay(\n",
        "    boundaries, values)\n",
        "learning_rate = learning_rate_fn(step)"
      ],
      "metadata": {
        "id": "A6IEQRtjUOEz"
      },
      "execution_count": null,
      "outputs": []
    },
    {
      "cell_type": "code",
      "source": [
        "import numpy as np\n",
        "inputs = Input((224,224,3))\n",
        "x = data_augmentation(inputs)\n",
        "x = net(x)\n",
        "x = Flatten()(x)\n",
        "outputs = Dense(23,activation = 'softmax')(x)\n",
        "model = Model(inputs, outputs)\n",
        "model.compile(loss='categorical_crossentropy', optimizer=opt_adam, metrics=['accuracy'])\n",
        "model.summary()"
      ],
      "metadata": {
        "id": "kGvFJSF8RhW5"
      },
      "execution_count": null,
      "outputs": []
    },
    {
      "cell_type": "code",
      "source": [
        "for i,path in enumerate(img_list):\n",
        "    for img in os.listdir(os.path.join('../input/dermnet/train',path)):\n",
        "        labels.append(i)\n"
      ],
      "metadata": {
        "id": "AoDkgxtr86aN"
      },
      "execution_count": null,
      "outputs": []
    }
  ]
}