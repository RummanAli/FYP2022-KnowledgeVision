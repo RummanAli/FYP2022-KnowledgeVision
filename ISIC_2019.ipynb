{
  "nbformat": 4,
  "nbformat_minor": 0,
  "metadata": {
    "colab": {
      "name": "ISIC-2019.ipynb",
      "provenance": [],
      "collapsed_sections": [],
      "mount_file_id": "1yM7UtBemvWmGCh99SXFlZdwQg9HPX0UU",
      "authorship_tag": "ABX9TyNw4qsDuZ7wm21k2NaEjhnF",
      "include_colab_link": true
    },
    "kernelspec": {
      "name": "python3",
      "display_name": "Python 3"
    },
    "language_info": {
      "name": "python"
    }
  },
  "cells": [
    {
      "cell_type": "markdown",
      "metadata": {
        "id": "view-in-github",
        "colab_type": "text"
      },
      "source": [
        "<a href=\"https://colab.research.google.com/github/RummanAli/FYP2022-KnowledgeVision/blob/main/ISIC_2019.ipynb\" target=\"_parent\"><img src=\"https://colab.research.google.com/assets/colab-badge.svg\" alt=\"Open In Colab\"/></a>"
      ]
    },
    {
      "cell_type": "code",
      "execution_count": 1,
      "metadata": {
        "id": "zLoPpfRZC0Ez"
      },
      "outputs": [],
      "source": [
        "import numpy as np\n",
        "import os\n",
        "import tensorflow as tf\n",
        "from PIL import Image\n",
        "from tensorflow.keras.utils import to_categorical\n",
        "from tensorflow.keras.models import Sequential\n",
        "from tensorflow.keras.layers import *\n",
        "from tensorflow.keras.models import Model\n",
        "from tensorflow.keras.preprocessing.image import ImageDataGenerator\n",
        "from tensorflow.keras import regularizers\n",
        "from tensorflow.keras.callbacks import LearningRateScheduler\n",
        "from tensorflow.keras.callbacks import ModelCheckpoint"
      ]
    },
    {
      "cell_type": "code",
      "source": [
        "def inv_softmax(x):\n",
        "    return tf.cast(tf.math.log(x), tf.float32) + tf.cast(tf.math.log(7.0), tf.float32)"
      ],
      "metadata": {
        "id": "7o_WGVH5sjS1"
      },
      "execution_count": 39,
      "outputs": []
    },
    {
      "cell_type": "code",
      "execution_count": 40,
      "metadata": {
        "id": "cHNBeWTtBEdy"
      },
      "outputs": [],
      "source": [
        "import numpy as np\n",
        "import keras\n",
        "import tensorflow\n",
        "class DataGenerator(tensorflow.keras.utils.Sequence):\n",
        "    'Generates data for Keras'\n",
        "    def __init__(self, list_IDs, labels,knowledge_res,knowledge_dense, batch_size=100, dim=(224,224), n_channels=3,\n",
        "                 n_classes=7, shuffle=True):\n",
        "        'Initialization'\n",
        "        self.dim = dim\n",
        "        self.batch_size = batch_size\n",
        "        self.labels = labels\n",
        "        self.knowledge_res = knowledge_res\n",
        "        self.knowledge_dense = knowledge_dense\n",
        "        self.list_IDs = list_IDs\n",
        "        self.n_channels = n_channels\n",
        "        self.n_classes = n_classes\n",
        "        self.shuffle = shuffle\n",
        "        self.on_epoch_end()\n",
        "\n",
        "    def __len__(self):\n",
        "        'Denotes the number of batches per epoch'\n",
        "        return int(np.floor(len(self.list_IDs) / self.batch_size))\n",
        "\n",
        "    def __getitem__(self, index):\n",
        "        'Generate one batch of data'\n",
        "        # Generate indexes of the batch\n",
        "        indexes = self.indexes[index*self.batch_size:(index+1)*self.batch_size]\n",
        "\n",
        "        # Find list of IDs\n",
        "        list_IDs_temp = [self.list_IDs[k] for k in indexes]\n",
        "\n",
        "        # Generate data\n",
        "        X, y = self.__data_generation(list_IDs_temp)\n",
        "\n",
        "        return X, y\n",
        "\n",
        "\n",
        "    def on_epoch_end(self):\n",
        "        'Updates indexes after each epoch'\n",
        "        self.indexes = np.arange(len(self.list_IDs))\n",
        "        if self.shuffle == True:\n",
        "            np.random.shuffle(self.indexes)\n",
        "\n",
        "    def __data_generation(self, list_IDs_temp):\n",
        "        'Generates data containing batch_size samples' # X : (n_samples, *dim, n_channels)\n",
        "        # Initialization\n",
        "        k_res = np.empty((self.batch_size,7), dtype=float)\n",
        "        k_dense = np.empty((self.batch_size,7), dtype=float)\n",
        "        y = np.empty((self.batch_size), dtype=int)\n",
        "        # Generate data\n",
        "        for i, ID in enumerate(list_IDs_temp):\n",
        "            # Store sample\n",
        "\n",
        "            k_res[i] = self.knowledge_res['/curr_proj_datasets/ISIC 2019 7 classes' + ID]\n",
        "            k_dense[i] = self.knowledge_dense['/curr_proj_datasets/ISIC 2019 7 classes' + ID]\n",
        "            y[i] = self.labels[ID]\n",
        "            \n",
        "        return [inv_softmax(k_dense),inv_softmax(k_res)], tensorflow.keras.utils.to_categorical(y, num_classes=self.n_classes)"
      ]
    },
    {
      "cell_type": "code",
      "execution_count": 41,
      "metadata": {
        "id": "1gXzOgwLBEdy",
        "colab": {
          "base_uri": "https://localhost:8080/",
          "height": 140
        },
        "outputId": "1d15454c-fe9e-4dac-87b1-58de34c0d0db"
      },
      "outputs": [
        {
          "output_type": "execute_result",
          "data": {
            "text/plain": [
              "'\\nimport pickle\\ntrain_dir = \\'/content/train\\'\\ntest_dir = \\'/content/test\\'\\nimg_list = os.listdir(train_dir)\\nimg_list.sort()\\nlist_IDs = []\\nlabels = {}\\nfor i,path in enumerate(img_list):\\n    for img in os.listdir(os.path.join(train_dir,path)):\\n        final = os.path.join(train_dir,path,img)\\n        list_IDs.append(final)\\n        labels[final] = i\\n\\nan_file2 = open(\"list_IDs_train\", \"wb\")\\npickle.dump(list_IDs, an_file2)\\nan_file2.close()\\n\\nan_file = open(\"true_outputs_train\", \"wb\")\\npickle.dump(labels, an_file)\\nan_file.close()\\n        \\nimg_list = os.listdir(test_dir)\\nimg_list.sort()\\nlist_IDs2 = []\\nlabels2 = {}\\nfor i,path in enumerate(img_list):\\n    for img in os.listdir(os.path.join(test_dir,path)):\\n        final = os.path.join(test_dir,path,img)\\n        list_IDs2.append(final)\\n        labels2[final] = i\\n\\nan_file2 = open(\"list_IDs_test\", \"wb\")\\npickle.dump(list_IDs2, an_file2)\\nan_file2.close()\\n\\nan_file = open(\"true_outputs_test\", \"wb\")\\npickle.dump(labels2, an_file)\\nan_file.close()\\n'"
            ],
            "application/vnd.google.colaboratory.intrinsic+json": {
              "type": "string"
            }
          },
          "metadata": {},
          "execution_count": 41
        }
      ],
      "source": [
        "'''\n",
        "import pickle\n",
        "train_dir = '/content/train'\n",
        "test_dir = '/content/test'\n",
        "img_list = os.listdir(train_dir)\n",
        "img_list.sort()\n",
        "list_IDs = []\n",
        "labels = {}\n",
        "for i,path in enumerate(img_list):\n",
        "    for img in os.listdir(os.path.join(train_dir,path)):\n",
        "        final = os.path.join(train_dir,path,img)\n",
        "        list_IDs.append(final)\n",
        "        labels[final] = i\n",
        "\n",
        "an_file2 = open(\"list_IDs_train\", \"wb\")\n",
        "pickle.dump(list_IDs, an_file2)\n",
        "an_file2.close()\n",
        "\n",
        "an_file = open(\"true_outputs_train\", \"wb\")\n",
        "pickle.dump(labels, an_file)\n",
        "an_file.close()\n",
        "        \n",
        "img_list = os.listdir(test_dir)\n",
        "img_list.sort()\n",
        "list_IDs2 = []\n",
        "labels2 = {}\n",
        "for i,path in enumerate(img_list):\n",
        "    for img in os.listdir(os.path.join(test_dir,path)):\n",
        "        final = os.path.join(test_dir,path,img)\n",
        "        list_IDs2.append(final)\n",
        "        labels2[final] = i\n",
        "\n",
        "an_file2 = open(\"list_IDs_test\", \"wb\")\n",
        "pickle.dump(list_IDs2, an_file2)\n",
        "an_file2.close()\n",
        "\n",
        "an_file = open(\"true_outputs_test\", \"wb\")\n",
        "pickle.dump(labels2, an_file)\n",
        "an_file.close()\n",
        "'''"
      ]
    },
    {
      "cell_type": "code",
      "execution_count": 42,
      "metadata": {
        "id": "T9veVBKrBEdy"
      },
      "outputs": [],
      "source": [
        "import pickle\n",
        "train_res = open(\"/content/drive/MyDrive/ISIC-2019/isicDNNRES152_v1_D512D23_trainable_bestTorch__KnowledgeTrains.pkl\",\"rb\")\n",
        "test_res = open(\"/content/drive/MyDrive/ISIC-2019/isicDNNRES152_v1_D512D23_trainable_bestTorch__KnowledgeTests.pkl\",\"rb\")\n",
        "train_dense = open(\"/content/drive/MyDrive/ISIC-2019/isicDNNDENSE169_v1_D512D23_trainable_bestTorch__KnowledgeTrains.pkl\",\"rb\")\n",
        "test_dense = open(\"/content/drive/MyDrive/ISIC-2019/isicDNNDENSE169_v1_D512D23_trainable_bestTorch__KnowledgeTests.pkl\",\"rb\")\n",
        "list_IDs = open(\"/content/drive/MyDrive/ISIC-2019/list_IDs_train.pkl\",\"rb\")\n",
        "list_IDs_test = open(\"/content/drive/MyDrive/ISIC-2019/list_IDs_test.pkl\",\"rb\")\n",
        "labels = open(\"/content/drive/MyDrive/ISIC-2019/true_outputs_train.pkl\",\"rb\")\n",
        "labels2 = open(\"/content/drive/MyDrive/ISIC-2019/true_outputs_test.pkl\",\"rb\")\n",
        "train_res_dict = pickle.load(train_res)\n",
        "test_res_dict = pickle.load(test_res)\n",
        "train_dense_dict = pickle.load(train_dense)\n",
        "test_dense_dict = pickle.load(test_dense)\n",
        "list_IDs_dict = pickle.load(list_IDs)\n",
        "list_IDs_test_dict = pickle.load(list_IDs_test)\n",
        "labels_dict = pickle.load(labels)\n",
        "labels2_dict = pickle.load(labels2)\n",
        "\n",
        "train_generator = DataGenerator(list_IDs_dict, labels_dict,train_res_dict,train_dense_dict)\n",
        "validation_generator = DataGenerator(list_IDs_test_dict, labels2_dict,test_res_dict,test_dense_dict)"
      ]
    },
    {
      "cell_type": "code",
      "execution_count": 43,
      "metadata": {
        "id": "VTe3JGpTOp8X"
      },
      "outputs": [],
      "source": [
        "def knowledge_incorporated_model():#pretrained_model):    \n",
        "    inputA = Input((7))\n",
        "    inputB = Input((7))\n",
        "    l1    = Add()([inputA,inputB])\n",
        "    l1    = Dense(32)(l1)\n",
        "    l2    = Activation('relu')(l1)\n",
        "    l4    = Dense(64)(l2)\n",
        "    l5    = Activation('relu')(l4)\n",
        "    l6    = Dense(7)(l5)\n",
        "    #l6    = Activation('softmax')(l6)\n",
        "    l8    = Add()([l6,inputB])\n",
        "    l9    = Activation('softmax')(l8)\n",
        "    return Model(inputs=[inputA, inputB], outputs=l9)"
      ]
    },
    {
      "cell_type": "code",
      "source": [
        "opt_adam = tf.keras.optimizers.Adam(\n",
        "    learning_rate=0.0010,\n",
        "    beta_1=0.9,\n",
        "    beta_2=0.999,\n",
        "    epsilon=1e-07)"
      ],
      "metadata": {
        "id": "S9mrxoKmHY5J"
      },
      "execution_count": 44,
      "outputs": []
    },
    {
      "cell_type": "code",
      "source": [
        "model_DNN_knowledge = knowledge_incorporated_model()\n",
        "model_DNN_knowledge.compile(loss='categorical_crossentropy', optimizer=opt_adam, metrics=['accuracy'])\n",
        "model_DNN_knowledge.fit_generator(train_generator,validation_data = validation_generator,epochs = 100,verbose = 2)\n",
        "tf.keras.models.save_model(model_DNN_knowledge,'/content/drive/MyDrive/ISIC-2019/knowledge_model_logits2')"
      ],
      "metadata": {
        "colab": {
          "base_uri": "https://localhost:8080/",
          "height": 922
        },
        "id": "XLEXe22HF6dC",
        "outputId": "dca43e3a-b479-4901-bcf5-fc75391c5ba4"
      },
      "execution_count": 45,
      "outputs": [
        {
          "output_type": "stream",
          "name": "stdout",
          "text": [
            "Epoch 1/100\n"
          ]
        },
        {
          "output_type": "stream",
          "name": "stderr",
          "text": [
            "/usr/local/lib/python3.7/dist-packages/ipykernel_launcher.py:3: UserWarning: `Model.fit_generator` is deprecated and will be removed in a future version. Please use `Model.fit`, which supports generators.\n",
            "  This is separate from the ipykernel package so we can avoid doing imports until\n"
          ]
        },
        {
          "output_type": "stream",
          "name": "stdout",
          "text": [
            "209/209 - 1s - loss: nan - accuracy: 0.0369 - val_loss: nan - val_accuracy: 0.0322 - 1s/epoch - 7ms/step\n",
            "Epoch 2/100\n",
            "209/209 - 1s - loss: nan - accuracy: 0.0357 - val_loss: nan - val_accuracy: 0.0322 - 892ms/epoch - 4ms/step\n",
            "Epoch 3/100\n",
            "209/209 - 1s - loss: nan - accuracy: 0.0356 - val_loss: nan - val_accuracy: 0.0322 - 854ms/epoch - 4ms/step\n",
            "Epoch 4/100\n",
            "209/209 - 1s - loss: nan - accuracy: 0.0356 - val_loss: nan - val_accuracy: 0.0322 - 865ms/epoch - 4ms/step\n",
            "Epoch 5/100\n",
            "209/209 - 1s - loss: nan - accuracy: 0.0356 - val_loss: nan - val_accuracy: 0.0319 - 873ms/epoch - 4ms/step\n",
            "Epoch 6/100\n",
            "209/209 - 1s - loss: nan - accuracy: 0.0357 - val_loss: nan - val_accuracy: 0.0322 - 888ms/epoch - 4ms/step\n",
            "Epoch 7/100\n",
            "209/209 - 1s - loss: nan - accuracy: 0.0355 - val_loss: nan - val_accuracy: 0.0322 - 843ms/epoch - 4ms/step\n",
            "Epoch 8/100\n",
            "209/209 - 1s - loss: nan - accuracy: 0.0357 - val_loss: nan - val_accuracy: 0.0319 - 867ms/epoch - 4ms/step\n",
            "Epoch 9/100\n",
            "209/209 - 1s - loss: nan - accuracy: 0.0356 - val_loss: nan - val_accuracy: 0.0322 - 830ms/epoch - 4ms/step\n",
            "Epoch 10/100\n",
            "209/209 - 1s - loss: nan - accuracy: 0.0356 - val_loss: nan - val_accuracy: 0.0319 - 888ms/epoch - 4ms/step\n",
            "Epoch 11/100\n",
            "209/209 - 1s - loss: nan - accuracy: 0.0356 - val_loss: nan - val_accuracy: 0.0319 - 880ms/epoch - 4ms/step\n",
            "Epoch 12/100\n",
            "209/209 - 1s - loss: nan - accuracy: 0.0356 - val_loss: nan - val_accuracy: 0.0322 - 820ms/epoch - 4ms/step\n",
            "Epoch 13/100\n",
            "209/209 - 1s - loss: nan - accuracy: 0.0357 - val_loss: nan - val_accuracy: 0.0322 - 894ms/epoch - 4ms/step\n",
            "Epoch 14/100\n",
            "209/209 - 1s - loss: nan - accuracy: 0.0356 - val_loss: nan - val_accuracy: 0.0322 - 855ms/epoch - 4ms/step\n",
            "Epoch 15/100\n"
          ]
        },
        {
          "output_type": "error",
          "ename": "KeyboardInterrupt",
          "evalue": "ignored",
          "traceback": [
            "\u001b[0;31m---------------------------------------------------------------------------\u001b[0m",
            "\u001b[0;31mKeyboardInterrupt\u001b[0m                         Traceback (most recent call last)",
            "\u001b[0;32m<ipython-input-45-68c5be2c1552>\u001b[0m in \u001b[0;36m<module>\u001b[0;34m()\u001b[0m\n\u001b[1;32m      1\u001b[0m \u001b[0mmodel_DNN_knowledge\u001b[0m \u001b[0;34m=\u001b[0m \u001b[0mknowledge_incorporated_model\u001b[0m\u001b[0;34m(\u001b[0m\u001b[0;34m)\u001b[0m\u001b[0;34m\u001b[0m\u001b[0;34m\u001b[0m\u001b[0m\n\u001b[1;32m      2\u001b[0m \u001b[0mmodel_DNN_knowledge\u001b[0m\u001b[0;34m.\u001b[0m\u001b[0mcompile\u001b[0m\u001b[0;34m(\u001b[0m\u001b[0mloss\u001b[0m\u001b[0;34m=\u001b[0m\u001b[0;34m'categorical_crossentropy'\u001b[0m\u001b[0;34m,\u001b[0m \u001b[0moptimizer\u001b[0m\u001b[0;34m=\u001b[0m\u001b[0mopt_adam\u001b[0m\u001b[0;34m,\u001b[0m \u001b[0mmetrics\u001b[0m\u001b[0;34m=\u001b[0m\u001b[0;34m[\u001b[0m\u001b[0;34m'accuracy'\u001b[0m\u001b[0;34m]\u001b[0m\u001b[0;34m)\u001b[0m\u001b[0;34m\u001b[0m\u001b[0;34m\u001b[0m\u001b[0m\n\u001b[0;32m----> 3\u001b[0;31m \u001b[0mmodel_DNN_knowledge\u001b[0m\u001b[0;34m.\u001b[0m\u001b[0mfit_generator\u001b[0m\u001b[0;34m(\u001b[0m\u001b[0mtrain_generator\u001b[0m\u001b[0;34m,\u001b[0m\u001b[0mvalidation_data\u001b[0m \u001b[0;34m=\u001b[0m \u001b[0mvalidation_generator\u001b[0m\u001b[0;34m,\u001b[0m\u001b[0mepochs\u001b[0m \u001b[0;34m=\u001b[0m \u001b[0;36m100\u001b[0m\u001b[0;34m,\u001b[0m\u001b[0mverbose\u001b[0m \u001b[0;34m=\u001b[0m \u001b[0;36m2\u001b[0m\u001b[0;34m)\u001b[0m\u001b[0;34m\u001b[0m\u001b[0;34m\u001b[0m\u001b[0m\n\u001b[0m\u001b[1;32m      4\u001b[0m \u001b[0mtf\u001b[0m\u001b[0;34m.\u001b[0m\u001b[0mkeras\u001b[0m\u001b[0;34m.\u001b[0m\u001b[0mmodels\u001b[0m\u001b[0;34m.\u001b[0m\u001b[0msave_model\u001b[0m\u001b[0;34m(\u001b[0m\u001b[0mmodel_DNN_knowledge\u001b[0m\u001b[0;34m,\u001b[0m\u001b[0;34m'/content/drive/MyDrive/ISIC-2019/knowledge_model_logits2'\u001b[0m\u001b[0;34m)\u001b[0m\u001b[0;34m\u001b[0m\u001b[0;34m\u001b[0m\u001b[0m\n",
            "\u001b[0;32m/usr/local/lib/python3.7/dist-packages/keras/engine/training.py\u001b[0m in \u001b[0;36mfit_generator\u001b[0;34m(self, generator, steps_per_epoch, epochs, verbose, callbacks, validation_data, validation_steps, validation_freq, class_weight, max_queue_size, workers, use_multiprocessing, shuffle, initial_epoch)\u001b[0m\n\u001b[1;32m   2221\u001b[0m         \u001b[0muse_multiprocessing\u001b[0m\u001b[0;34m=\u001b[0m\u001b[0muse_multiprocessing\u001b[0m\u001b[0;34m,\u001b[0m\u001b[0;34m\u001b[0m\u001b[0;34m\u001b[0m\u001b[0m\n\u001b[1;32m   2222\u001b[0m         \u001b[0mshuffle\u001b[0m\u001b[0;34m=\u001b[0m\u001b[0mshuffle\u001b[0m\u001b[0;34m,\u001b[0m\u001b[0;34m\u001b[0m\u001b[0;34m\u001b[0m\u001b[0m\n\u001b[0;32m-> 2223\u001b[0;31m         initial_epoch=initial_epoch)\n\u001b[0m\u001b[1;32m   2224\u001b[0m \u001b[0;34m\u001b[0m\u001b[0m\n\u001b[1;32m   2225\u001b[0m   \u001b[0;34m@\u001b[0m\u001b[0mdoc_controls\u001b[0m\u001b[0;34m.\u001b[0m\u001b[0mdo_not_generate_docs\u001b[0m\u001b[0;34m\u001b[0m\u001b[0;34m\u001b[0m\u001b[0m\n",
            "\u001b[0;32m/usr/local/lib/python3.7/dist-packages/keras/utils/traceback_utils.py\u001b[0m in \u001b[0;36merror_handler\u001b[0;34m(*args, **kwargs)\u001b[0m\n\u001b[1;32m     62\u001b[0m     \u001b[0mfiltered_tb\u001b[0m \u001b[0;34m=\u001b[0m \u001b[0;32mNone\u001b[0m\u001b[0;34m\u001b[0m\u001b[0;34m\u001b[0m\u001b[0m\n\u001b[1;32m     63\u001b[0m     \u001b[0;32mtry\u001b[0m\u001b[0;34m:\u001b[0m\u001b[0;34m\u001b[0m\u001b[0;34m\u001b[0m\u001b[0m\n\u001b[0;32m---> 64\u001b[0;31m       \u001b[0;32mreturn\u001b[0m \u001b[0mfn\u001b[0m\u001b[0;34m(\u001b[0m\u001b[0;34m*\u001b[0m\u001b[0margs\u001b[0m\u001b[0;34m,\u001b[0m \u001b[0;34m**\u001b[0m\u001b[0mkwargs\u001b[0m\u001b[0;34m)\u001b[0m\u001b[0;34m\u001b[0m\u001b[0;34m\u001b[0m\u001b[0m\n\u001b[0m\u001b[1;32m     65\u001b[0m     \u001b[0;32mexcept\u001b[0m \u001b[0mException\u001b[0m \u001b[0;32mas\u001b[0m \u001b[0me\u001b[0m\u001b[0;34m:\u001b[0m  \u001b[0;31m# pylint: disable=broad-except\u001b[0m\u001b[0;34m\u001b[0m\u001b[0;34m\u001b[0m\u001b[0m\n\u001b[1;32m     66\u001b[0m       \u001b[0mfiltered_tb\u001b[0m \u001b[0;34m=\u001b[0m \u001b[0m_process_traceback_frames\u001b[0m\u001b[0;34m(\u001b[0m\u001b[0me\u001b[0m\u001b[0;34m.\u001b[0m\u001b[0m__traceback__\u001b[0m\u001b[0;34m)\u001b[0m\u001b[0;34m\u001b[0m\u001b[0;34m\u001b[0m\u001b[0m\n",
            "\u001b[0;32m/usr/local/lib/python3.7/dist-packages/keras/engine/training.py\u001b[0m in \u001b[0;36mfit\u001b[0;34m(self, x, y, batch_size, epochs, verbose, callbacks, validation_split, validation_data, shuffle, class_weight, sample_weight, initial_epoch, steps_per_epoch, validation_steps, validation_batch_size, validation_freq, max_queue_size, workers, use_multiprocessing)\u001b[0m\n\u001b[1;32m   1382\u001b[0m                 _r=1):\n\u001b[1;32m   1383\u001b[0m               \u001b[0mcallbacks\u001b[0m\u001b[0;34m.\u001b[0m\u001b[0mon_train_batch_begin\u001b[0m\u001b[0;34m(\u001b[0m\u001b[0mstep\u001b[0m\u001b[0;34m)\u001b[0m\u001b[0;34m\u001b[0m\u001b[0;34m\u001b[0m\u001b[0m\n\u001b[0;32m-> 1384\u001b[0;31m               \u001b[0mtmp_logs\u001b[0m \u001b[0;34m=\u001b[0m \u001b[0mself\u001b[0m\u001b[0;34m.\u001b[0m\u001b[0mtrain_function\u001b[0m\u001b[0;34m(\u001b[0m\u001b[0miterator\u001b[0m\u001b[0;34m)\u001b[0m\u001b[0;34m\u001b[0m\u001b[0;34m\u001b[0m\u001b[0m\n\u001b[0m\u001b[1;32m   1385\u001b[0m               \u001b[0;32mif\u001b[0m \u001b[0mdata_handler\u001b[0m\u001b[0;34m.\u001b[0m\u001b[0mshould_sync\u001b[0m\u001b[0;34m:\u001b[0m\u001b[0;34m\u001b[0m\u001b[0;34m\u001b[0m\u001b[0m\n\u001b[1;32m   1386\u001b[0m                 \u001b[0mcontext\u001b[0m\u001b[0;34m.\u001b[0m\u001b[0masync_wait\u001b[0m\u001b[0;34m(\u001b[0m\u001b[0;34m)\u001b[0m\u001b[0;34m\u001b[0m\u001b[0;34m\u001b[0m\u001b[0m\n",
            "\u001b[0;32m/usr/local/lib/python3.7/dist-packages/tensorflow/python/util/traceback_utils.py\u001b[0m in \u001b[0;36merror_handler\u001b[0;34m(*args, **kwargs)\u001b[0m\n\u001b[1;32m    148\u001b[0m     \u001b[0mfiltered_tb\u001b[0m \u001b[0;34m=\u001b[0m \u001b[0;32mNone\u001b[0m\u001b[0;34m\u001b[0m\u001b[0;34m\u001b[0m\u001b[0m\n\u001b[1;32m    149\u001b[0m     \u001b[0;32mtry\u001b[0m\u001b[0;34m:\u001b[0m\u001b[0;34m\u001b[0m\u001b[0;34m\u001b[0m\u001b[0m\n\u001b[0;32m--> 150\u001b[0;31m       \u001b[0;32mreturn\u001b[0m \u001b[0mfn\u001b[0m\u001b[0;34m(\u001b[0m\u001b[0;34m*\u001b[0m\u001b[0margs\u001b[0m\u001b[0;34m,\u001b[0m \u001b[0;34m**\u001b[0m\u001b[0mkwargs\u001b[0m\u001b[0;34m)\u001b[0m\u001b[0;34m\u001b[0m\u001b[0;34m\u001b[0m\u001b[0m\n\u001b[0m\u001b[1;32m    151\u001b[0m     \u001b[0;32mexcept\u001b[0m \u001b[0mException\u001b[0m \u001b[0;32mas\u001b[0m \u001b[0me\u001b[0m\u001b[0;34m:\u001b[0m\u001b[0;34m\u001b[0m\u001b[0;34m\u001b[0m\u001b[0m\n\u001b[1;32m    152\u001b[0m       \u001b[0mfiltered_tb\u001b[0m \u001b[0;34m=\u001b[0m \u001b[0m_process_traceback_frames\u001b[0m\u001b[0;34m(\u001b[0m\u001b[0me\u001b[0m\u001b[0;34m.\u001b[0m\u001b[0m__traceback__\u001b[0m\u001b[0;34m)\u001b[0m\u001b[0;34m\u001b[0m\u001b[0;34m\u001b[0m\u001b[0m\n",
            "\u001b[0;32m/usr/local/lib/python3.7/dist-packages/tensorflow/python/eager/def_function.py\u001b[0m in \u001b[0;36m__call__\u001b[0;34m(self, *args, **kwds)\u001b[0m\n\u001b[1;32m    913\u001b[0m \u001b[0;34m\u001b[0m\u001b[0m\n\u001b[1;32m    914\u001b[0m       \u001b[0;32mwith\u001b[0m \u001b[0mOptionalXlaContext\u001b[0m\u001b[0;34m(\u001b[0m\u001b[0mself\u001b[0m\u001b[0;34m.\u001b[0m\u001b[0m_jit_compile\u001b[0m\u001b[0;34m)\u001b[0m\u001b[0;34m:\u001b[0m\u001b[0;34m\u001b[0m\u001b[0;34m\u001b[0m\u001b[0m\n\u001b[0;32m--> 915\u001b[0;31m         \u001b[0mresult\u001b[0m \u001b[0;34m=\u001b[0m \u001b[0mself\u001b[0m\u001b[0;34m.\u001b[0m\u001b[0m_call\u001b[0m\u001b[0;34m(\u001b[0m\u001b[0;34m*\u001b[0m\u001b[0margs\u001b[0m\u001b[0;34m,\u001b[0m \u001b[0;34m**\u001b[0m\u001b[0mkwds\u001b[0m\u001b[0;34m)\u001b[0m\u001b[0;34m\u001b[0m\u001b[0;34m\u001b[0m\u001b[0m\n\u001b[0m\u001b[1;32m    916\u001b[0m \u001b[0;34m\u001b[0m\u001b[0m\n\u001b[1;32m    917\u001b[0m       \u001b[0mnew_tracing_count\u001b[0m \u001b[0;34m=\u001b[0m \u001b[0mself\u001b[0m\u001b[0;34m.\u001b[0m\u001b[0mexperimental_get_tracing_count\u001b[0m\u001b[0;34m(\u001b[0m\u001b[0;34m)\u001b[0m\u001b[0;34m\u001b[0m\u001b[0;34m\u001b[0m\u001b[0m\n",
            "\u001b[0;32m/usr/local/lib/python3.7/dist-packages/tensorflow/python/eager/def_function.py\u001b[0m in \u001b[0;36m_call\u001b[0;34m(self, *args, **kwds)\u001b[0m\n\u001b[1;32m    945\u001b[0m       \u001b[0;31m# In this case we have created variables on the first call, so we run the\u001b[0m\u001b[0;34m\u001b[0m\u001b[0;34m\u001b[0m\u001b[0;34m\u001b[0m\u001b[0m\n\u001b[1;32m    946\u001b[0m       \u001b[0;31m# defunned version which is guaranteed to never create variables.\u001b[0m\u001b[0;34m\u001b[0m\u001b[0;34m\u001b[0m\u001b[0;34m\u001b[0m\u001b[0m\n\u001b[0;32m--> 947\u001b[0;31m       \u001b[0;32mreturn\u001b[0m \u001b[0mself\u001b[0m\u001b[0;34m.\u001b[0m\u001b[0m_stateless_fn\u001b[0m\u001b[0;34m(\u001b[0m\u001b[0;34m*\u001b[0m\u001b[0margs\u001b[0m\u001b[0;34m,\u001b[0m \u001b[0;34m**\u001b[0m\u001b[0mkwds\u001b[0m\u001b[0;34m)\u001b[0m  \u001b[0;31m# pylint: disable=not-callable\u001b[0m\u001b[0;34m\u001b[0m\u001b[0;34m\u001b[0m\u001b[0m\n\u001b[0m\u001b[1;32m    948\u001b[0m     \u001b[0;32melif\u001b[0m \u001b[0mself\u001b[0m\u001b[0;34m.\u001b[0m\u001b[0m_stateful_fn\u001b[0m \u001b[0;32mis\u001b[0m \u001b[0;32mnot\u001b[0m \u001b[0;32mNone\u001b[0m\u001b[0;34m:\u001b[0m\u001b[0;34m\u001b[0m\u001b[0;34m\u001b[0m\u001b[0m\n\u001b[1;32m    949\u001b[0m       \u001b[0;31m# Release the lock early so that multiple threads can perform the call\u001b[0m\u001b[0;34m\u001b[0m\u001b[0;34m\u001b[0m\u001b[0;34m\u001b[0m\u001b[0m\n",
            "\u001b[0;32m/usr/local/lib/python3.7/dist-packages/tensorflow/python/eager/function.py\u001b[0m in \u001b[0;36m__call__\u001b[0;34m(self, *args, **kwargs)\u001b[0m\n\u001b[1;32m   2955\u001b[0m        filtered_flat_args) = self._maybe_define_function(args, kwargs)\n\u001b[1;32m   2956\u001b[0m     return graph_function._call_flat(\n\u001b[0;32m-> 2957\u001b[0;31m         filtered_flat_args, captured_inputs=graph_function.captured_inputs)  # pylint: disable=protected-access\n\u001b[0m\u001b[1;32m   2958\u001b[0m \u001b[0;34m\u001b[0m\u001b[0m\n\u001b[1;32m   2959\u001b[0m   \u001b[0;34m@\u001b[0m\u001b[0mproperty\u001b[0m\u001b[0;34m\u001b[0m\u001b[0;34m\u001b[0m\u001b[0m\n",
            "\u001b[0;32m/usr/local/lib/python3.7/dist-packages/tensorflow/python/eager/function.py\u001b[0m in \u001b[0;36m_call_flat\u001b[0;34m(self, args, captured_inputs, cancellation_manager)\u001b[0m\n\u001b[1;32m   1852\u001b[0m       \u001b[0;31m# No tape is watching; skip to running the function.\u001b[0m\u001b[0;34m\u001b[0m\u001b[0;34m\u001b[0m\u001b[0;34m\u001b[0m\u001b[0m\n\u001b[1;32m   1853\u001b[0m       return self._build_call_outputs(self._inference_function.call(\n\u001b[0;32m-> 1854\u001b[0;31m           ctx, args, cancellation_manager=cancellation_manager))\n\u001b[0m\u001b[1;32m   1855\u001b[0m     forward_backward = self._select_forward_and_backward_functions(\n\u001b[1;32m   1856\u001b[0m         \u001b[0margs\u001b[0m\u001b[0;34m,\u001b[0m\u001b[0;34m\u001b[0m\u001b[0;34m\u001b[0m\u001b[0m\n",
            "\u001b[0;32m/usr/local/lib/python3.7/dist-packages/tensorflow/python/eager/function.py\u001b[0m in \u001b[0;36mcall\u001b[0;34m(self, ctx, args, cancellation_manager)\u001b[0m\n\u001b[1;32m    502\u001b[0m               \u001b[0minputs\u001b[0m\u001b[0;34m=\u001b[0m\u001b[0margs\u001b[0m\u001b[0;34m,\u001b[0m\u001b[0;34m\u001b[0m\u001b[0;34m\u001b[0m\u001b[0m\n\u001b[1;32m    503\u001b[0m               \u001b[0mattrs\u001b[0m\u001b[0;34m=\u001b[0m\u001b[0mattrs\u001b[0m\u001b[0;34m,\u001b[0m\u001b[0;34m\u001b[0m\u001b[0;34m\u001b[0m\u001b[0m\n\u001b[0;32m--> 504\u001b[0;31m               ctx=ctx)\n\u001b[0m\u001b[1;32m    505\u001b[0m         \u001b[0;32melse\u001b[0m\u001b[0;34m:\u001b[0m\u001b[0;34m\u001b[0m\u001b[0;34m\u001b[0m\u001b[0m\n\u001b[1;32m    506\u001b[0m           outputs = execute.execute_with_cancellation(\n",
            "\u001b[0;32m/usr/local/lib/python3.7/dist-packages/tensorflow/python/eager/execute.py\u001b[0m in \u001b[0;36mquick_execute\u001b[0;34m(op_name, num_outputs, inputs, attrs, ctx, name)\u001b[0m\n\u001b[1;32m     53\u001b[0m     \u001b[0mctx\u001b[0m\u001b[0;34m.\u001b[0m\u001b[0mensure_initialized\u001b[0m\u001b[0;34m(\u001b[0m\u001b[0;34m)\u001b[0m\u001b[0;34m\u001b[0m\u001b[0;34m\u001b[0m\u001b[0m\n\u001b[1;32m     54\u001b[0m     tensors = pywrap_tfe.TFE_Py_Execute(ctx._handle, device_name, op_name,\n\u001b[0;32m---> 55\u001b[0;31m                                         inputs, attrs, num_outputs)\n\u001b[0m\u001b[1;32m     56\u001b[0m   \u001b[0;32mexcept\u001b[0m \u001b[0mcore\u001b[0m\u001b[0;34m.\u001b[0m\u001b[0m_NotOkStatusException\u001b[0m \u001b[0;32mas\u001b[0m \u001b[0me\u001b[0m\u001b[0;34m:\u001b[0m\u001b[0;34m\u001b[0m\u001b[0;34m\u001b[0m\u001b[0m\n\u001b[1;32m     57\u001b[0m     \u001b[0;32mif\u001b[0m \u001b[0mname\u001b[0m \u001b[0;32mis\u001b[0m \u001b[0;32mnot\u001b[0m \u001b[0;32mNone\u001b[0m\u001b[0;34m:\u001b[0m\u001b[0;34m\u001b[0m\u001b[0;34m\u001b[0m\u001b[0m\n",
            "\u001b[0;31mKeyboardInterrupt\u001b[0m: "
          ]
        }
      ]
    },
    {
      "cell_type": "code",
      "source": [
        "from sklearn.metrics import classification_report\n",
        "import pickle\n",
        "#test_dense_dict = pickle.load(test_dense)\n",
        "#labels2_dict = pickle.load(labels2)\n",
        "#list_IDs_test_dict = pickle.load(list_IDs_test)\n",
        "#test_res_dict = pickle.load(test_res)\n",
        "\n",
        "model_logits = tf.keras.models.load_model(\"/content/drive/MyDrive/ISIC-2019/knowledge_model_softmax\")\n",
        "\n",
        "labels = []\n",
        "preds_soft = []\n",
        "preds_logit = []\n",
        "know1 = []\n",
        "know2 = [] \n",
        "for i,path in enumerate(list_IDs_test_dict):\n",
        "  labels.append(labels2_dict[path])\n",
        "  know_res = test_res_dict['/curr_proj_datasets/ISIC 2019 7 classes' +path]\n",
        "  know_dense = test_dense_dict['/curr_proj_datasets/ISIC 2019 7 classes' +path]\n",
        "  preds_logit.append(model_logits([know_dense,know_res]))\n",
        "  know1.append(know_res)\n",
        "  know2.append(know_dense)\n",
        "report = classification_report(labels,np.argmax(preds_logit,axis = -1),output_dict=True)\n",
        "report1 = classification_report(labels,np.argmax(know1,axis = -1),output_dict=True)\n",
        "report2 = classification_report(labels,np.argmax(know2,axis = -1),output_dict=True)\n",
        "import pandas\n",
        "df = pandas.DataFrame(report).transpose()  \n",
        "df1 = pandas.DataFrame(report1).transpose()  \n",
        "df2 = pandas.DataFrame(report2).transpose()\n",
        "df.to_csv('/content/drive/MyDrive/ISIC-2019/results.csv')  \n",
        "df1.to_csv('/content/drive/MyDrive/ISIC-2019/resnet.csv')  \n",
        "df2.to_csv('/content/drive/MyDrive/ISIC-2019/densenet.csv')  \n",
        "print(df)\n",
        "print(df1)\n",
        "print(df2)  "
      ],
      "metadata": {
        "colab": {
          "base_uri": "https://localhost:8080/"
        },
        "id": "egs9QHajc7T7",
        "outputId": "15f2a5a8-f641-4d96-bcef-af22c4cea987"
      },
      "execution_count": 11,
      "outputs": [
        {
          "output_type": "stream",
          "name": "stderr",
          "text": [
            "/usr/local/lib/python3.7/dist-packages/sklearn/metrics/_classification.py:1318: UndefinedMetricWarning: Precision and F-score are ill-defined and being set to 0.0 in labels with no predicted samples. Use `zero_division` parameter to control this behavior.\n",
            "  _warn_prf(average, modifier, msg_start, len(result))\n",
            "/usr/local/lib/python3.7/dist-packages/sklearn/metrics/_classification.py:1318: UndefinedMetricWarning: Precision and F-score are ill-defined and being set to 0.0 in labels with no predicted samples. Use `zero_division` parameter to control this behavior.\n",
            "  _warn_prf(average, modifier, msg_start, len(result))\n",
            "/usr/local/lib/python3.7/dist-packages/sklearn/metrics/_classification.py:1318: UndefinedMetricWarning: Precision and F-score are ill-defined and being set to 0.0 in labels with no predicted samples. Use `zero_division` parameter to control this behavior.\n",
            "  _warn_prf(average, modifier, msg_start, len(result))\n",
            "/usr/local/lib/python3.7/dist-packages/sklearn/metrics/_classification.py:1318: UndefinedMetricWarning: Precision and F-score are ill-defined and being set to 0.0 in labels with no predicted samples. Use `zero_division` parameter to control this behavior.\n",
            "  _warn_prf(average, modifier, msg_start, len(result))\n",
            "/usr/local/lib/python3.7/dist-packages/sklearn/metrics/_classification.py:1318: UndefinedMetricWarning: Precision and F-score are ill-defined and being set to 0.0 in labels with no predicted samples. Use `zero_division` parameter to control this behavior.\n",
            "  _warn_prf(average, modifier, msg_start, len(result))\n",
            "/usr/local/lib/python3.7/dist-packages/sklearn/metrics/_classification.py:1318: UndefinedMetricWarning: Precision and F-score are ill-defined and being set to 0.0 in labels with no predicted samples. Use `zero_division` parameter to control this behavior.\n",
            "  _warn_prf(average, modifier, msg_start, len(result))\n",
            "/usr/local/lib/python3.7/dist-packages/sklearn/metrics/_classification.py:1318: UndefinedMetricWarning: Precision and F-score are ill-defined and being set to 0.0 in labels with no predicted samples. Use `zero_division` parameter to control this behavior.\n",
            "  _warn_prf(average, modifier, msg_start, len(result))\n",
            "/usr/local/lib/python3.7/dist-packages/sklearn/metrics/_classification.py:1318: UndefinedMetricWarning: Precision and F-score are ill-defined and being set to 0.0 in labels with no predicted samples. Use `zero_division` parameter to control this behavior.\n",
            "  _warn_prf(average, modifier, msg_start, len(result))\n",
            "/usr/local/lib/python3.7/dist-packages/sklearn/metrics/_classification.py:1318: UndefinedMetricWarning: Precision and F-score are ill-defined and being set to 0.0 in labels with no predicted samples. Use `zero_division` parameter to control this behavior.\n",
            "  _warn_prf(average, modifier, msg_start, len(result))\n"
          ]
        },
        {
          "output_type": "stream",
          "name": "stdout",
          "text": [
            "              precision    recall  f1-score      support\n",
            "0              0.000000  0.000000  0.000000   119.000000\n",
            "1              0.801724  0.933735  0.862709   498.000000\n",
            "2              0.677333  0.711485  0.693989   357.000000\n",
            "3              0.000000  0.000000  0.000000    36.000000\n",
            "4              0.813115  0.729412  0.768992   680.000000\n",
            "5              0.883372  0.952525  0.916646  1980.000000\n",
            "6              0.000000  0.000000  0.000000    42.000000\n",
            "accuracy       0.835399  0.835399  0.835399     0.835399\n",
            "macro avg      0.453649  0.475308  0.463191  3712.000000\n",
            "weighted avg   0.792851  0.835399  0.812300  3712.000000\n",
            "              precision    recall  f1-score      support\n",
            "0              0.000000  0.000000  0.000000   119.000000\n",
            "1              0.780034  0.925703  0.846648   498.000000\n",
            "2              0.674931  0.686275  0.680556   357.000000\n",
            "3              0.000000  0.000000  0.000000    36.000000\n",
            "4              0.800336  0.701471  0.747649   680.000000\n",
            "5              0.869565  0.949495  0.907774  1980.000000\n",
            "6              0.000000  0.000000  0.000000    42.000000\n",
            "accuracy       0.825162  0.825162  0.825162     0.825162\n",
            "macro avg      0.446409  0.466135  0.454661  3712.000000\n",
            "weighted avg   0.780004  0.825162  0.800211  3712.000000\n",
            "              precision    recall  f1-score      support\n",
            "0              0.000000  0.000000  0.000000   119.000000\n",
            "1              0.798587  0.907631  0.849624   498.000000\n",
            "2              0.595402  0.725490  0.654040   357.000000\n",
            "3              0.000000  0.000000  0.000000    36.000000\n",
            "4              0.756014  0.647059  0.697306   680.000000\n",
            "5              0.866134  0.931313  0.897542  1980.000000\n",
            "6              0.000000  0.000000  0.000000    42.000000\n",
            "accuracy       0.806843  0.806843  0.806843     0.806843\n",
            "macro avg      0.430877  0.458785  0.442645  3712.000000\n",
            "weighted avg   0.764895  0.806843  0.783380  3712.000000\n"
          ]
        }
      ]
    },
    {
      "cell_type": "code",
      "source": [
        "import numpy as np\n",
        "import matplotlib.pyplot as plt\n",
        "data = [[0,0.846648,0.680556,0,0.747649,0.907774,0],\n",
        "[0,0.849624,0.65404,0,0.697306,0.897542,0],\n",
        "[0,0.862709,0.693989,0,0.768992,0.916646,0]]\n",
        "\n",
        "X = np.arange(7)\n",
        "fig = plt.figure()\n",
        "plt.rcParams['figure.figsize'] = [12, 5.5]\n",
        "plt.rcParams['figure.dpi'] = 100\n",
        "ax = fig.add_axes([0,0,1,1])\n",
        "ax.set_ylim([0, 1])\n",
        "ax.bar(X + 0.00, data[0], color = 'r', width = 0.25, label = \"Resnet (Teacher)\")\n",
        "ax.bar(X + 0.25, data[1], color = 'b', width = 0.25, label = \"Densenet (Student)\")\n",
        "ax.bar(X + 0.5, data[2], color = 'lawngreen', width = 0.25, label = \"Knowledge Incorporated Model\")\n",
        "ax.axes.xaxis.set_ticklabels([])\n",
        "labels = ['class0', 'class1' ,'class2' ,'class3' ,'class4','class5','class6']\n",
        "ax.set_xticks(X)\n",
        "ax.set_xticklabels(labels,rotation = 45)\n",
        "plt.ylabel('F1 Score')\n",
        "plt.legend(loc= \"best\")"
      ],
      "metadata": {
        "colab": {
          "base_uri": "https://localhost:8080/",
          "height": 659
        },
        "id": "0oe3C1Lpqptj",
        "outputId": "967c65d5-9bea-4ae2-be62-ce15b8c99a17"
      },
      "execution_count": 12,
      "outputs": [
        {
          "output_type": "execute_result",
          "data": {
            "text/plain": [
              "<matplotlib.legend.Legend at 0x7fe018e99e90>"
            ]
          },
          "metadata": {},
          "execution_count": 12
        },
        {
          "output_type": "display_data",
          "data": {
            "text/plain": [
              "<Figure size 1200x550 with 1 Axes>"
            ],
            "image/png": "[encoded data removed]"
          },
          "metadata": {
            "needs_background": "light"
          }
        }
      ]
    },
    {
      "cell_type": "code",
      "source": [
        "len(labels)"
      ],
      "metadata": {
        "colab": {
          "base_uri": "https://localhost:8080/"
        },
        "id": "drHGW7siJIcu",
        "outputId": "f991d108-12fc-4e7a-d103-28d6d54cbe56"
      },
      "execution_count": 91,
      "outputs": [
        {
          "output_type": "execute_result",
          "data": {
            "text/plain": [
              "3712"
            ]
          },
          "metadata": {},
          "execution_count": 91
        }
      ]
    },
    {
      "cell_type": "code",
      "source": [
        "import numpy as np\n",
        "import matplotlib.pyplot as plt\n",
        "from itertools import cycle\n",
        "\n",
        "from sklearn import svm, datasets\n",
        "from sklearn.metrics import roc_curve, auc\n",
        "from sklearn.model_selection import train_test_split\n",
        "from sklearn.preprocessing import label_binarize\n",
        "from sklearn.multiclass import OneVsRestClassifier\n",
        "from sklearn.metrics import roc_auc_score\n",
        "#preds_logit\n",
        "#know\n",
        "#know2 \n",
        "# Binarize the output\n",
        "y = label_binarize(np.array(labels), classes=[0,1,2,3,4,5,6])\n",
        "n_classes = y.shape[1]\n",
        "\n",
        "y_score = np.reshape(np.array(preds_logit),(3712,7))\n",
        "\n",
        "# Compute ROC curve and ROC area for each class\n",
        "fpr = dict()\n",
        "tpr = dict()\n",
        "roc_auc = dict()\n",
        "for i in range(n_classes):\n",
        "    fpr[i], tpr[i], _ = roc_curve(y[:, i], y_score[:, i])\n",
        "    roc_auc[i] = auc(fpr[i], tpr[i])\n",
        "\n",
        "# Compute micro-average ROC curve and ROC area\n",
        "fpr[\"micro\"], tpr[\"micro\"], _ = roc_curve(y.ravel(), y_score.ravel())\n",
        "roc_auc[\"micro\"] = auc(fpr[\"micro\"], tpr[\"micro\"])"
      ],
      "metadata": {
        "id": "rdQhd0oLKX8A"
      },
      "execution_count": 92,
      "outputs": []
    },
    {
      "cell_type": "code",
      "source": [
        "y = label_binarize(labels, classes=[0,1,2,3,4,5,6])\n",
        "n_classes = y.shape[1]\n",
        "\n",
        "y_score = np.reshape(np.array(know1),(3712,7))\n",
        "\n",
        "# Compute ROC curve and ROC area for each class\n",
        "fpr2 = dict()\n",
        "tpr2 = dict()\n",
        "roc_auc2 = dict()\n",
        "for i in range(n_classes):\n",
        "    fpr2[i], tpr2[i], _ = roc_curve(y[:, i], y_score[:, i])\n",
        "    roc_auc2[i] = auc(fpr2[i], tpr2[i])\n",
        "\n",
        "# Compute micro-average ROC curve and ROC area\n",
        "fpr2[\"micro\"], tpr2[\"micro\"], _ = roc_curve(y.ravel(), y_score.ravel())\n",
        "roc_auc2[\"micro\"] = auc(fpr2[\"micro\"], tpr2[\"micro\"]) "
      ],
      "metadata": {
        "id": "YT5DjDn-SGCu"
      },
      "execution_count": 94,
      "outputs": []
    },
    {
      "cell_type": "code",
      "source": [
        "y = label_binarize(labels, classes=[0,1,2,3,4,5,6])\n",
        "n_classes = y.shape[1]\n",
        "\n",
        "y_score = np.reshape(np.array(know2),(3712,7))\n",
        "\n",
        "# Compute ROC curve and ROC area for each class\n",
        "fpr3 = dict()\n",
        "tpr3 = dict()\n",
        "roc_auc3 = dict()\n",
        "for i in range(n_classes):\n",
        "    fpr3[i], tpr3[i], _ = roc_curve(y[:, i], y_score[:, i])\n",
        "    roc_auc3[i] = auc(fpr3[i], tpr3[i])\n",
        "\n",
        "# Compute micro-average ROC curve and ROC area\n",
        "fpr3[\"micro\"], tpr3[\"micro\"], _ = roc_curve(y.ravel(), y_score.ravel())\n",
        "roc_auc3[\"micro\"] = auc(fpr3[\"micro\"], tpr3[\"micro\"])"
      ],
      "metadata": {
        "id": "FjA7GvXsSs35"
      },
      "execution_count": 95,
      "outputs": []
    },
    {
      "cell_type": "code",
      "source": [
        "plt.figure()\n",
        "plt.rcParams['figure.figsize'] = [6, 4]\n",
        "plt.rcParams['figure.dpi'] = 100\n",
        "lw = 2\n",
        "plt.plot(\n",
        "    fpr[2],\n",
        "    tpr[2],\n",
        "    color=\"lightgreen\",\n",
        "    lw=lw,\n",
        "    label=\"Knowledge Incorporated Model, AUC = %0.2f\" % roc_auc[2],\n",
        ")\n",
        "plt.plot(\n",
        "    fpr2[2],\n",
        "    tpr2[2],\n",
        "    color=\"darkred\",\n",
        "    lw=lw,\n",
        "    label=\"Resnet, AUC = %0.2f)\" % roc_auc2[2],\n",
        ")\n",
        "plt.plot(\n",
        "    fpr3[2],\n",
        "    tpr3[2],\n",
        "    color=\"darkblue\",\n",
        "    lw=lw,\n",
        "    label=\"Densenet, AUC = %0.2f\" % roc_auc3[2],\n",
        ")\n",
        "plt.plot([0, 1], [0, 1], color=\"navy\", lw=lw, linestyle=\"--\")\n",
        "plt.xlim([0.0, 1.0])\n",
        "plt.ylim([0.0, 1.05])\n",
        "plt.xlabel(\"False Positive Rate\")\n",
        "plt.ylabel(\"True Positive Rate\")\n",
        "plt.title(\"Receiver operating characteristic example\")\n",
        "plt.legend(loc=\"lower right\")\n",
        "plt.show()"
      ],
      "metadata": {
        "colab": {
          "base_uri": "https://localhost:8080/",
          "height": 404
        },
        "id": "S8K9mCW-Rvsl",
        "outputId": "4ac7722e-3647-45b8-ef5c-e96d9bc6f3b6"
      },
      "execution_count": 104,
      "outputs": [
        {
          "output_type": "display_data",
          "data": {
            "text/plain": [
              "<Figure size 600x400 with 1 Axes>"
            ],
            "image/png": "[encoded data removed]"
          },
          "metadata": {
            "needs_background": "light"
          }
        }
      ]
    },
    {
      "cell_type": "code",
      "source": [
        ""
      ],
      "metadata": {
        "id": "UI_hJyaCM5nK"
      },
      "execution_count": null,
      "outputs": []
    }
  ]
}