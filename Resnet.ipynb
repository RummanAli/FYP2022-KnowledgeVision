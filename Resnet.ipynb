{
  "nbformat": 4,
  "nbformat_minor": 0,
  "metadata": {
    "colab": {
      "name": "Resnet.ipynb",
      "provenance": [],
      "collapsed_sections": [],
      "authorship_tag": "ABX9TyMLey3TIzxzlv00OcnCKBp4",
      "include_colab_link": true
    },
    "kernelspec": {
      "name": "python3",
      "display_name": "Python 3"
    },
    "language_info": {
      "name": "python"
    },
    "accelerator": "GPU"
  },
  "cells": [
    {
      "cell_type": "markdown",
      "metadata": {
        "id": "view-in-github",
        "colab_type": "text"
      },
      "source": [
        "<a href=\"https://colab.research.google.com/github/RummanAli/FYP2022-KnowledgeVision/blob/main/Resnet.ipynb\" target=\"_parent\"><img src=\"https://colab.research.google.com/assets/colab-badge.svg\" alt=\"Open In Colab\"/></a>"
      ]
    },
    {
      "cell_type": "code",
      "metadata": {
        "id": "Wonf5qZ6E_4K"
      },
      "source": [
        "import tensorflow as tf\n",
        "from tensorflow.keras.utils import to_categorical\n",
        "from tensorflow.keras.models import Sequential\n",
        "from tensorflow.keras.layers import Flatten, Dense, Input, Add, Reshape,Conv2D,MaxPooling2D,ZeroPadding2D,experimental,AveragePooling2D\n",
        "from matplotlib import pyplot as plt\n",
        "from tensorflow.keras.models import Model\n",
        "import numpy as np\n",
        "import keras\n",
        "from keras import layers\n",
        "import cv2"
      ],
      "execution_count": 1,
      "outputs": []
    },
    {
      "cell_type": "code",
      "metadata": {
        "colab": {
          "base_uri": "https://localhost:8080/"
        },
        "id": "aWGwykqSC7VS",
        "outputId": "ad9f0934-9617-46ff-a53a-9e94751acf36"
      },
      "source": [
        "(x_train, y_train), (x_test, y_test) = tf.keras.datasets.mnist.load_data()"
      ],
      "execution_count": 2,
      "outputs": [
        {
          "output_type": "stream",
          "text": [
            "Downloading data from https://storage.googleapis.com/tensorflow/tf-keras-datasets/mnist.npz\n",
            "11493376/11490434 [==============================] - 0s 0us/step\n"
          ],
          "name": "stdout"
        }
      ]
    },
    {
      "cell_type": "code",
      "metadata": {
        "id": "2CO3-HW2IOaN"
      },
      "source": [
        "y_train = tf.keras.utils.to_categorical(y_train)\n",
        "y_test = tf.keras.utils.to_categorical(y_test)"
      ],
      "execution_count": 3,
      "outputs": []
    },
    {
      "cell_type": "code",
      "metadata": {
        "id": "rlMIljV5U4vy"
      },
      "source": [
        "imgs = []\n",
        "for i,img in enumerate(x_train):\n",
        "  res = cv2.resize(img, dsize=(224, 224), interpolation=cv2.INTER_CUBIC)\n",
        "  imgs.append(res)"
      ],
      "execution_count": 4,
      "outputs": []
    },
    {
      "cell_type": "code",
      "metadata": {
        "id": "M8p6PT-6eQGM"
      },
      "source": [
        "imgs_test = []\n",
        "for img in (x_test):\n",
        "  res = cv2.resize(img, dsize=(224, 224), interpolation=cv2.INTER_CUBIC)\n",
        "  imgs_test.append(res)"
      ],
      "execution_count": 5,
      "outputs": []
    },
    {
      "cell_type": "code",
      "metadata": {
        "id": "400A6vjQYOWL"
      },
      "source": [
        "imgs = np.array(imgs)\n",
        "imgs_test = np.array(imgs_test)\n",
        "imgs = np.expand_dims(imgs, axis=-1)\n",
        "imgs_test = np.expand_dims(imgs_test,axis = -1)"
      ],
      "execution_count": 6,
      "outputs": []
    },
    {
      "cell_type": "code",
      "metadata": {
        "id": "zMabCPs0syWb"
      },
      "source": [
        "del x_train\n",
        "del x_test"
      ],
      "execution_count": 7,
      "outputs": []
    },
    {
      "cell_type": "code",
      "metadata": {
        "id": "04hruONPMaHn"
      },
      "source": [
        "def ResBlock(filter,kernel,stride1,stride2,padding,input):\n",
        "  conv1 = Conv2D(filter,kernel,(stride1,stride1),padding,activation='relu')(input)\n",
        "  return Conv2D(filter,kernel,(stride2,stride2),padding,activation='relu')(conv1)"
      ],
      "execution_count": 8,
      "outputs": []
    },
    {
      "cell_type": "code",
      "metadata": {
        "id": "5JeYA3hrpiT3"
      },
      "source": [
        "Conv_ops = [3,3,5,2]\n",
        "filter = 64\n",
        "input = Input((224,224,1))\n",
        "b1l0 = ZeroPadding2D(padding = (3,3))(input)\n",
        "b1l1 = Conv2D(64,7,(2,2),padding = 'valid',activation='relu')(b1l0)\n",
        "b1l1 = ZeroPadding2D(padding = (1,1))(b1l1)\n",
        "b1l2 = MaxPooling2D(pool_size=(3, 3), strides=(2,2), padding=\"valid\")(b1l1)\n",
        "for i in range(4):  \n",
        "  for ops in range(Conv_ops[i]):\n",
        "    b1l3 = ResBlock(filter,3,1,1,'same',b1l2)\n",
        "    if (ops == (Conv_ops[i]-1)):\n",
        "      b1l2 = Conv2D(filter*2,1,(2,2),padding = 'valid',activation='relu')(b1l2)\n",
        "    else:\n",
        "      b1l2 = Add()([b1l3, b1l2])\n",
        "  if i == 3:\n",
        "    break\n",
        "  else:\n",
        "    filter = filter * 2\n",
        "    b1l3 = ZeroPadding2D(padding = (1,1))(b1l3)\n",
        "    b1l3 = Conv2D(filter,3,(2,2),padding = 'valid',activation='relu')(b1l3)\n",
        "    b1l3 = Conv2D(filter,3,(1,1),padding = 'same',activation='relu')(b1l3)\n",
        "    b1l2 = Add()([b1l3, b1l2])\n",
        "b1l3 = AveragePooling2D(pool_size=(3, 3), strides=(2,2))(b1l3)\n",
        "b1l3 = Flatten()(b1l3)\n",
        "b1l3 = Dense(1000, activation='relu')(b1l3)\n",
        "b1l3 = Dense(10,activation='softmax')(b1l3)\n",
        "model = Model(inputs=input, outputs=b1l3)"
      ],
      "execution_count": 10,
      "outputs": []
    },
    {
      "cell_type": "code",
      "metadata": {
        "id": "_uYBbOQ__ixA"
      },
      "source": [
        "#model.summary()\n",
        "model.compile(loss='categorical_crossentropy', optimizer='adam', metrics=['accuracy'])"
      ],
      "execution_count": 11,
      "outputs": []
    },
    {
      "cell_type": "code",
      "metadata": {
        "colab": {
          "base_uri": "https://localhost:8080/"
        },
        "id": "jabyQZo2S5iK",
        "outputId": "f2dc0528-5b73-4358-9e77-fc8d1de5b36f"
      },
      "source": [
        "history = model.fit(x = imgs,y = y_train,epochs = 5,validation_data=(imgs_test,y_test))"
      ],
      "execution_count": 12,
      "outputs": [
        {
          "output_type": "stream",
          "text": [
            "Epoch 1/5\n",
            "1875/1875 [==============================] - 321s 154ms/step - loss: 5.2870 - accuracy: 0.9236 - val_loss: 0.0831 - val_accuracy: 0.9740\n",
            "Epoch 2/5\n",
            "1875/1875 [==============================] - 287s 153ms/step - loss: 0.0623 - accuracy: 0.9810 - val_loss: 0.0448 - val_accuracy: 0.9855\n",
            "Epoch 3/5\n",
            "1875/1875 [==============================] - 286s 153ms/step - loss: 0.0464 - accuracy: 0.9857 - val_loss: 0.0399 - val_accuracy: 0.9861\n",
            "Epoch 4/5\n",
            "1875/1875 [==============================] - 286s 153ms/step - loss: 0.0445 - accuracy: 0.9862 - val_loss: 0.0444 - val_accuracy: 0.9857\n",
            "Epoch 5/5\n",
            "1875/1875 [==============================] - 285s 152ms/step - loss: 0.0444 - accuracy: 0.9873 - val_loss: 0.0933 - val_accuracy: 0.9824\n"
          ],
          "name": "stdout"
        }
      ]
    },
    {
      "cell_type": "code",
      "metadata": {
        "colab": {
          "base_uri": "https://localhost:8080/",
          "height": 295
        },
        "id": "D7JdQaSSfLKN",
        "outputId": "8eecd2cd-4b35-4e89-b13b-4521ee877bcd"
      },
      "source": [
        "plt.plot(history.history['accuracy'])\n",
        "plt.plot(history.history['val_accuracy'])\n",
        "plt.title('model accuracy')\n",
        "plt.ylabel('accuracy')\n",
        "plt.xlabel('epoch')\n",
        "plt.legend(['train', 'val'], loc='upper left')\n",
        "plt.show()"
      ],
      "execution_count": 14,
      "outputs": [
        {
          "output_type": "display_data",
          "data": {
            "image/png": "[encoded data removed]",
            "text/plain": [
              "<Figure size 432x288 with 1 Axes>"
            ]
          },
          "metadata": {
            "tags": [],
            "needs_background": "light"
          }
        }
      ]
    },
    {
      "cell_type": "code",
      "metadata": {
        "id": "c2SL5aU1dLh4"
      },
      "source": [
        "Conv_ops = [3,3,5,2]\n",
        "filter = 64\n",
        "input = Input((224,224,1))\n",
        "b1l0 = ZeroPadding2D(padding = (3,3))(input)\n",
        "b1l1 = Conv2D(64,7,(2,2),padding = 'valid',activation='relu')(b1l0)\n",
        "b1l1 = ZeroPadding2D(padding = (1,1))(b1l1)\n",
        "b1l2 = MaxPooling2D(pool_size=(3, 3), strides=(2,2), padding=\"valid\")(b1l1)\n",
        "for i in range(4):  \n",
        "  for ops in range(Conv_ops[i]):\n",
        "    b1l3 = ResBlock(filter,3,1,1,'same',b1l2)\n",
        "  if i == 3:\n",
        "    break\n",
        "  else:\n",
        "    filter = filter * 2\n",
        "    b1l3 = ZeroPadding2D(padding = (1,1))(b1l3)\n",
        "    b1l3 = Conv2D(filter,3,(2,2),padding = 'valid',activation='relu')(b1l3)\n",
        "    b1l3 = Conv2D(filter,3,(1,1),padding = 'same',activation='relu')(b1l3)\n",
        "    b1l2 = b1l3\n",
        "b1l3 = AveragePooling2D(pool_size=(3, 3), strides=(2,2))(b1l3)\n",
        "b1l3 = Flatten()(b1l3)\n",
        "b1l3 = Dense(1000, activation='relu')(b1l3)\n",
        "b1l3 = Dense(10,activation='softmax')(b1l3)\n",
        "model2 = Model(inputs=input, outputs=b1l3)"
      ],
      "execution_count": 9,
      "outputs": []
    },
    {
      "cell_type": "code",
      "metadata": {
        "colab": {
          "base_uri": "https://localhost:8080/"
        },
        "id": "0eB1d-Azf3F9",
        "outputId": "3419d1a3-d609-43ce-f435-e51130a1c9d7"
      },
      "source": [
        "model2.compile(loss='categorical_crossentropy', optimizer='adam', metrics=['accuracy'])\n",
        "history2 = model2.fit(x = imgs,y = y_train,epochs = 5,validation_data=(imgs_test,y_test))"
      ],
      "execution_count": 10,
      "outputs": [
        {
          "output_type": "stream",
          "text": [
            "Epoch 1/5\n",
            "1875/1875 [==============================] - 331s 160ms/step - loss: 2.3133 - accuracy: 0.1117 - val_loss: 2.3011 - val_accuracy: 0.1135\n",
            "Epoch 2/5\n",
            "1875/1875 [==============================] - 298s 159ms/step - loss: 2.3015 - accuracy: 0.1124 - val_loss: 2.3010 - val_accuracy: 0.1135\n",
            "Epoch 3/5\n",
            "1875/1875 [==============================] - 298s 159ms/step - loss: 2.3014 - accuracy: 0.1124 - val_loss: 2.3012 - val_accuracy: 0.1135\n",
            "Epoch 4/5\n",
            "1875/1875 [==============================] - 298s 159ms/step - loss: 2.3014 - accuracy: 0.1124 - val_loss: 2.3010 - val_accuracy: 0.1135\n",
            "Epoch 5/5\n",
            "1875/1875 [==============================] - 298s 159ms/step - loss: 2.3014 - accuracy: 0.1124 - val_loss: 2.3010 - val_accuracy: 0.1135\n"
          ],
          "name": "stdout"
        }
      ]
    },
    {
      "cell_type": "code",
      "metadata": {
        "colab": {
          "base_uri": "https://localhost:8080/",
          "height": 295
        },
        "id": "rgqKGHYieEDj",
        "outputId": "11ad191f-691a-4e3b-eb8b-7ae4ffdcd921"
      },
      "source": [
        "plt.plot(history2.history['accuracy'])\n",
        "plt.plot(history2.history['val_accuracy'])\n",
        "plt.title('model accuracy')\n",
        "plt.ylabel('accuracy')\n",
        "plt.xlabel('epoch')\n",
        "plt.legend(['train', 'val'], loc='upper left')\n",
        "plt.show()"
      ],
      "execution_count": 12,
      "outputs": [
        {
          "output_type": "display_data",
          "data": {
            "image/png": "[encoded data removed]",
            "text/plain": [
              "<Figure size 432x288 with 1 Axes>"
            ]
          },
          "metadata": {
            "tags": [],
            "needs_background": "light"
          }
        }
      ]
    },
    {
      "cell_type": "markdown",
      "metadata": {
        "id": "u5uqplHV0vBw"
      },
      "source": [
        ""
      ]
    }
  ]
}